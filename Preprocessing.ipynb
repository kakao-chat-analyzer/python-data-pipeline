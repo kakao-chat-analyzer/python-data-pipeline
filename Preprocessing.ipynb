{
 "cells": [
  {
   "cell_type": "markdown",
   "id": "bcb1dc25-1ec5-4440-9dba-bb7b479d0b98",
   "metadata": {
    "jp-MarkdownHeadingCollapsed": true
   },
   "source": [
    "- 닉네임 추출\n",
    "  - 텍스트에 ','가 없으면 당일 대화 날짜를 나타냄\n",
    "  - 텍스트에 ',' 가 있으면 대화 내용이다.\n",
    "      - 추출 내용을 봐서는 첫번째 ',' 뒤에 대화 상대가 나온다\n",
    "      - 첫번째 ',' 앞에는 날짜가 나온다.\n",
    "      - 첫번째 ':' 뒤에는 대화 내용이 나온다."
   ]
  },
  {
   "cell_type": "markdown",
   "id": "6b0e7ae3-f5b2-48fe-87ed-711b8d6af7f1",
   "metadata": {},
   "source": [
    "#### 문자 예외"
   ]
  },
  {
   "cell_type": "markdown",
   "id": "62f87676-8c1b-43fc-983e-74c286211abe",
   "metadata": {},
   "source": [
    "## 모델 install"
   ]
  },
  {
   "cell_type": "code",
   "execution_count": 162,
   "id": "db2207ff-d33b-4841-ba22-1c41dd95023c",
   "metadata": {},
   "outputs": [
    {
     "name": "stdout",
     "output_type": "stream",
     "text": [
      "Requirement already satisfied: gensim in ./korean/lib/python3.11/site-packages (4.3.2)\n",
      "Requirement already satisfied: numpy>=1.18.5 in ./korean/lib/python3.11/site-packages (from gensim) (1.26.0)\n",
      "Requirement already satisfied: scipy>=1.7.0 in ./korean/lib/python3.11/site-packages (from gensim) (1.11.3)\n",
      "Requirement already satisfied: smart-open>=1.8.1 in ./korean/lib/python3.11/site-packages (from gensim) (6.4.0)\n"
     ]
    }
   ],
   "source": [
    "# !pip3 install krwordrank\n",
    "!pip3 install gensim"
   ]
  },
  {
   "cell_type": "code",
   "execution_count": 165,
   "id": "761a58a4-7820-4046-abd9-052cb0a9341a",
   "metadata": {
    "collapsed": true,
    "jupyter": {
     "outputs_hidden": true
    },
    "scrolled": true
   },
   "outputs": [
    {
     "name": "stdout",
     "output_type": "stream",
     "text": [
      "Collecting gensim==3.6.0\n",
      "  Downloading gensim-3.6.0.tar.gz (23.1 MB)\n",
      "\u001b[2K     \u001b[90m━━━━━━━━━━━━━━━━━━━━━━━━━━━━━━━━━━━━━━━━\u001b[0m \u001b[32m23.1/23.1 MB\u001b[0m \u001b[31m8.0 MB/s\u001b[0m eta \u001b[36m0:00:00\u001b[0m00:01\u001b[0m00:01\u001b[0m\n",
      "\u001b[?25h  Installing build dependencies ... \u001b[?25ldone\n",
      "\u001b[?25h  Getting requirements to build wheel ... \u001b[?25ldone\n",
      "\u001b[?25h  Installing backend dependencies ... \u001b[?25ldone\n",
      "\u001b[?25h  Preparing metadata (pyproject.toml) ... \u001b[?25ldone\n",
      "\u001b[?25hRequirement already satisfied: numpy>=1.11.3 in ./korean/lib/python3.11/site-packages (from gensim==3.6.0) (1.26.0)\n",
      "Requirement already satisfied: scipy>=0.18.1 in ./korean/lib/python3.11/site-packages (from gensim==3.6.0) (1.11.3)\n",
      "Requirement already satisfied: six>=1.5.0 in ./korean/lib/python3.11/site-packages (from gensim==3.6.0) (1.16.0)\n",
      "Requirement already satisfied: smart-open>=1.2.1 in ./korean/lib/python3.11/site-packages (from gensim==3.6.0) (6.4.0)\n",
      "Building wheels for collected packages: gensim\n",
      "  Building wheel for gensim (pyproject.toml) ... \u001b[?25ldone\n",
      "\u001b[?25h  Created wheel for gensim: filename=gensim-3.6.0-cp311-cp311-macosx_11_0_x86_64.whl size=23218278 sha256=e80b006773ee3bb4b9bed9c4596c9b54a38463dedaafee46b02a3d89c4143b98\n",
      "  Stored in directory: /Users/goodyoung/Library/Caches/pip/wheels/6b/84/4d/ea7977f42f89ebaa24f5702cc2d5013300934c7641d48c1521\n",
      "Successfully built gensim\n",
      "Installing collected packages: gensim\n",
      "Successfully installed gensim-3.6.0\n"
     ]
    }
   ],
   "source": [
    "!pip3 install gensim==3.6.0 # from gensim.summarization import summarize"
   ]
  },
  {
   "cell_type": "code",
   "execution_count": 229,
   "id": "0b45245a-0c53-4e26-a5bc-fe9fec71c383",
   "metadata": {},
   "outputs": [],
   "source": [
    "# !pip3 install keybert\n",
    "# !pip3 install kiwipiepy"
   ]
  },
  {
   "cell_type": "code",
   "execution_count": null,
   "id": "5a63f3a0-0934-48d5-8b79-a9785fed3c32",
   "metadata": {},
   "outputs": [],
   "source": []
  },
  {
   "cell_type": "markdown",
   "id": "26ba17bc-31fe-405c-a3b3-75146961000f",
   "metadata": {},
   "source": [
    "### TXT 인풋"
   ]
  },
  {
   "cell_type": "code",
   "execution_count": 48,
   "id": "4bbbd05a-3876-4384-9c96-81336ddb0b1b",
   "metadata": {},
   "outputs": [],
   "source": [
    "import re"
   ]
  },
  {
   "cell_type": "code",
   "execution_count": 49,
   "id": "4fb7943d-0077-47f3-aaf0-c392e0dbae30",
   "metadata": {},
   "outputs": [],
   "source": [
    "from datetime import datetime"
   ]
  },
  {
   "cell_type": "code",
   "execution_count": 50,
   "id": "92432459-a795-439b-878c-061aeded4736",
   "metadata": {},
   "outputs": [],
   "source": [
    "class Conversation:\n",
    "    def __init__(self):\n",
    "        self.conversation = [] # 총 대화\n",
    "        self.date = [] # 대화 날짜\n",
    "        self.mergeConversation = [] # 하루 대화 총합\n",
    "        self.dailyMessageList = [] # 하루대화\n",
    "        self.dailyMessageStr = ''\n",
    "        self.monthFlag = ''\n",
    "        \n",
    "    def isMessage(self,line:str):\n",
    "        \"\"\" \n",
    "        메세지 특성 판별 \n",
    "        1. 대화 시작\n",
    "        2. 그 전과 이어진 대화인지\n",
    "        3. 시작한 날짜인지\n",
    "        \"\"\"\n",
    "        pattern1 = r'\\d{4}\\. \\d{1,2}\\. \\d{1,2}\\. [오후|오전]* \\d{1,2}:\\d{1,2}'\n",
    "        pattern2 = r'^\\d{4}\\년 \\d{1,2}\\월 \\d{1,2}\\일 [월화수목금토일]요일+$' # ^는 문자열 시작 $는 문자열 끝부분\n",
    "        if re.match(pattern1, line): # 대화 시작이다.\n",
    "            return 1\n",
    "        elif re.match(pattern2, line): # 날짜이다.\n",
    "            return 2\n",
    "        else: # 추가적 대화이다.\n",
    "            return 0\n",
    "            \n",
    "    def messagePreprocess(self,message:str):\n",
    "        \"\"\" \n",
    "        대화 전처리 \n",
    "        1. 웃음, 울음 (ㅋㅋ, ㅎㅎ)\n",
    "            - ㅋㅋㅋㅋ, ㅎㅎㅎㅎㅎ\n",
    "        2. 느낌표 (!) , 물음표 (?)\n",
    "            - !, !!!!!!!, !?!?\n",
    "        3. 쉼표(,), 점(.)\n",
    "            - ……. ,,,,,,\n",
    "        4. 이모티콘 타입 1 (입 중심)\n",
    "            - :) :D\n",
    "        5. 이모티콘 타입 1 (눈 중심)\n",
    "            - ^^, ㅜㅜ\n",
    "        \"\"\"\n",
    "        pattern1 = \"(\\(.+?\\))|([ㄴㅋㅎㅇzㅠㅜ!?~]{3,})|[,.]{2,}|([;:]{1}[\\^'-]?[)(DPpboOX] )|([>ㅜㅠㅡ@+\\^][ㅁㅇ0oO\\._\\-]*[\\^ㅜㅠㅡ@+<];*)\"\n",
    "        message = re.sub(pattern1,'',message)\n",
    "        if line: #전처리 결과 대화가 있을 경우\n",
    "            return message.strip()\n",
    "        else:\n",
    "            return '' #or None\n",
    "    \n",
    "    def dailyConversation(self):\n",
    "        \"\"\" 하루 대화 \"\"\"\n",
    "        if len(self.date) != 0:\n",
    "            totalConversation = [self.date[-1], self.dailyMessageList,self.dailyMessageStr]\n",
    "            self.mergeConversation.append(totalConversation) # 대화 넣기\n",
    "            self.dailyMessageList = [] # 그날 대화 초기화\n",
    "            self.dailyMessageStr = ''\n",
    "        \n",
    "    def conversationSplit(self,line:str):\n",
    "        \"\"\" 대화 분리 \"\"\"\n",
    "        num = self.isMessage(line)\n",
    "        if num == 1: # 대화 시작\n",
    "            line_set = line.split(',', maxsplit=1)\n",
    "            line_set[0] = self.changeTimeType(line_set[0]) # 날짜 형식 변환 \"%Y-%m-%d %H:%M\"로\n",
    "            pop_line = line_set.pop()\n",
    "            name, message = pop_line.split(':', maxsplit=1) # 대화 이름, 대화 내용 분리\n",
    "            message = self.messagePreprocess(message) # 대화 전처리\n",
    "            if message:\n",
    "                self.dailyMessageList.append(message) #그 날 대화 종합 \n",
    "                self.dailyMessageStr = self.dailyMessageStr + ' ' + message\n",
    "\n",
    "            line_sets = line_set + [name.strip(), message]\n",
    "            self.conversation.append(line_sets)\n",
    "        elif num == 2: # 날짜\n",
    "            self.dailyConversation() #그 전날 대화 총합\n",
    "            self.date.append(self.changeDateType(line))\n",
    "            \n",
    "        else: # 추가적 대화\n",
    "            self.conversation[-1].append(line)\n",
    "\n",
    "    def changeDateType(self,line:str):\n",
    "        \"\"\" 대화 날짜 타입 변경 \"\"\"\n",
    "        line = '-'.join(re.findall(r'\\d+', line))\n",
    "        dt = datetime.strptime(line, \"%Y-%m-%d\").strftime(\"%Y-%m-%d\")\n",
    "        return dt\n",
    "\n",
    "    def changeTimeType(self,line:str):\n",
    "        \"\"\" 대화 시간 타입 변경 \"\"\"\n",
    "        line = line.replace(\"오후\",\"PM\").replace(\"오전\",\"AM\")\n",
    "        dt = datetime.strptime(line, \"%Y. %m. %d. %p %I:%M\").strftime(\"%Y-%m-%d %H:%M\")\n",
    "        return dt"
   ]
  },
  {
   "cell_type": "code",
   "execution_count": 51,
   "id": "3276bf96-1e1e-4cf0-9070-c3b62fd819ac",
   "metadata": {},
   "outputs": [],
   "source": [
    "conv = Conversation()\n",
    "f = open('test2.txt','r')\n",
    "data = f.readlines()\n",
    "for line in data[2:]:\n",
    "    if line !='\\n':\n",
    "        conv.conversationSplit(line.replace('\\n','').strip())"
   ]
  },
  {
   "cell_type": "code",
   "execution_count": 52,
   "id": "e30d72dc-e286-4a5c-bcc2-2d2800db4919",
   "metadata": {},
   "outputs": [
    {
     "data": {
      "text/plain": [
       "['2023-09-23', '2023-10-10', '2023-10-11']"
      ]
     },
     "execution_count": 52,
     "metadata": {},
     "output_type": "execute_result"
    }
   ],
   "source": [
    "conv.date[-3:]"
   ]
  },
  {
   "cell_type": "code",
   "execution_count": 58,
   "id": "4cc6b327-b99d-4859-96f9-1b9b718805bb",
   "metadata": {},
   "outputs": [
    {
     "data": {
      "text/plain": [
       "' 나는 인터스텔라 봤어 난 안봤는데 재밌어? 스포해줄까? ㄱㄱ 인터스텔라는 도서관에서 아빠가 나와 아니 엄마가 아니 뭐였지 동생 아니 여 동생 이해했어? ㅇㅎ 나만 대화하니? 이게 다 중요하다고 딴걸로 가자 그러다가 그럴까? 어렵다 인터스텔라 센과 치히로의 행방불명 봤ㅇ? 센과 치히로 봤지 센 치히로 나 지브리 좋아하거든 지브리 좋아해? 나는 센과 치히로에 나오는 돼지를 보고 울었어 너무 슬프게 생겨서 그거 돼지 비하아니야? 신고 신고하지마 나는 돼지를 좋아하며 존경하며 동경해 난 거기 하쿠가 돼지고기 먹고싶네 좀 멋있더라 응 오 하쿠는 남자야 여자야? 존잘 남자 남자구나 몰랐어 나도 저렇게 태어날걸 하쿠는 여자 닮았더라고 아쉬움이 남아 아하? 그럴 순 없어 우리 조금만 더 대화해야해 어제 뭐였ㅈ 체육대회 갔어? 어제 전 종목 다 나갔지 온 몸이 다 쑤셔 오 심지어 이겼어? 후면삼각근까지 알 배겼어 오 이겼지 그래서 진짜? 배민상품권 준대 체육대회 이겼구나?! 개이득 나도 갈게 그땐 언제 올건데 당신 난 시간이 되면 체육대회에서 술도 마시고 닭발도 먹고 삼겹살도 먹었어 돈도 내고? 지리지 만원 냈는데 가성비 지리네 난 한입 밖에 안 먹었어 어머 누가 다 먹었을까 술은 누가 마셨어 술도 다 마셨나 난 술 한 잔 마셨어 소오주? 하이볼 맛있었겠다 맛있더라 이만하면 될 것 같은데 핫식스랑 섞으면 좀 맛있어짐 카페인 덩어리네 ㅇㅈ 곧 뒤짐 이걸 한 번 돌려볼게 ㅎㅎ'"
      ]
     },
     "execution_count": 58,
     "metadata": {},
     "output_type": "execute_result"
    }
   ],
   "source": [
    "conv.mergeConversation[-1][2]"
   ]
  },
  {
   "cell_type": "code",
   "execution_count": 17,
   "id": "9f91a1d2-ab37-406e-b922-c4c1072cbb4f",
   "metadata": {},
   "outputs": [],
   "source": [
    "s = ['예쁜 영상과 아름다운 음악 꿈을 쫒는 두사람의 선택이 달랐다면 어땠을까 상상하는 장면이 인상깊었다 쓸쓸하지만 현실적인 사랑이랄까',\n",
    " '음악도 좋고 미아와 세바스티안의 아름다운 사랑과 예술에 대한 열정이 감동적이었습니다 재즈음악을 사랑하고 뮤지컬을 좋아하는 사람들에게 강추합니다',\n",
    " '생각보다 굉장히 재미있는 뻔한 결말도 아니고 아름다운 음악과 현실적인 스토리구성 모두에게 와닿을법한 울림들이 차 좋았어요 추천',\n",
    " '먼저 음악이 너무 좋고아름다운 영상미만으로도 최고네요 아름답지만 짠내도 나구요 별 생각없이 봤는데 강추입니다 영화보고 계속 음악이 귀에 맴돌아요',\n",
    " '사랑 꿈 현실 모든걸 다시한번 생각하게 하는 영화였어요 영상미도 너무 예쁘고 주인공도 예쁘고 내용도 아름답네요ㅠㅠ 인생 영화',\n",
    " '너무 좋은 영화 스토리는 비숫한것같아요 그래도 음악 영상 이루어지지않는 사랑을 더 매력적으로 전달한영화인것같아요 보고나서도 여운이 남는',\n",
    " '노래도 좋고 영상미도 좋고 그리고 배우들 연기까지 정말 좋았어요 개인적으로 뮤지컬 형식 영화를 안좋아하는 편인데 재밌게 봤습니다',\n",
    " '16년 최고의영화 인생영화입니다 영상미 색감 음악 감정선 다좋았는데 엔딩이 참현실적이네요 ㅎㅎ 참 공감되고 감동받았습니다 씁쓸하니 정말잘봤어요',\n",
    " '사실 두번째 보는 영화입니다 영상 편집과 음악이 너무 좋아요 어떻게 보면 너무나 현실적일 수 있는 결말이 슬프기하지만 아름답습니다',\n",
    " '영화사에 남을 최고의 뮤지컬영화입니다 음악과 영상이 너무 아름답고 두 주연배우의 연기는 매우 감동적입니다 무조건 보세요 최고']"
   ]
  },
  {
   "cell_type": "markdown",
   "id": "e401a813-535b-43ea-8b47-c9736cef5452",
   "metadata": {
    "jp-MarkdownHeadingCollapsed": true
   },
   "source": [
    "### 요약 1.."
   ]
  },
  {
   "cell_type": "code",
   "execution_count": 13,
   "id": "9a9432c5-0d5a-4ef8-917e-74f85acad18a",
   "metadata": {},
   "outputs": [],
   "source": [
    "v = sum.split()"
   ]
  },
  {
   "cell_type": "code",
   "execution_count": 24,
   "id": "ed77b313-9e8f-4f35-b3d9-37c4bc4816ed",
   "metadata": {},
   "outputs": [
    {
     "data": {
      "text/plain": [
       "{}"
      ]
     },
     "execution_count": 24,
     "metadata": {},
     "output_type": "execute_result"
    }
   ],
   "source": [
    "from krwordrank.word import summarize_with_keywords\n",
    "sum = \"\"\"근데 난 어디든 상관이 없어서 노바 와 나 외로워 아는 애가없어.\n",
    "진짜로 고민이네 너무 그 큐빅 회장형 보기가 그런데 어차피 큐빅 사람 너무 많아서 누군지 다 모를듯 노바 왜 감 나입니다.\"\"\"\n",
    "keywords = summarize_with_keywords()\n",
    "keywords"
   ]
  },
  {
   "cell_type": "code",
   "execution_count": 10,
   "id": "e7b13e26-f6e0-4b92-af80-0b47f13c9e73",
   "metadata": {},
   "outputs": [
    {
     "data": {
      "text/plain": [
       "{'자구': 1.072785020620934, 'ㅎㅎ': 1.0, '컴구': 0.6815824890118777}"
      ]
     },
     "execution_count": 10,
     "metadata": {},
     "output_type": "execute_result"
    }
   ],
   "source": [
    "from krwordrank.word import summarize_with_keywords\n",
    "keywords = summarize_with_keywords(conv.mergeConversation[24][1])\n",
    "keywords\n",
    "#conv.mergeConversation[1][1]"
   ]
  },
  {
   "cell_type": "code",
   "execution_count": 156,
   "id": "2e731d95-f870-4fa8-91dd-cbe9ea1c0be0",
   "metadata": {},
   "outputs": [
    {
     "data": {
      "text/plain": [
       "['건영',\n",
       " '어디갈거야',\n",
       " '동아리??',\n",
       " '예아',\n",
       " '진짜 모르겠네',\n",
       " '노바가',\n",
       " '어디였지',\n",
       " '작년 1등',\n",
       " '한 동아리?',\n",
       " '아하?!',\n",
       " '으',\n",
       " '저거',\n",
       " '오늘까지야?',\n",
       " 'ㄴㄴ',\n",
       " '근데',\n",
       " '난 어디든 상관이 없어서',\n",
       " '노바 와 나 외로워',\n",
       " '아는 애가없어',\n",
       " '진짜로',\n",
       " '고민이네',\n",
       " '너무',\n",
       " '그 큐빅 회장형 보기가 그런데',\n",
       " '어차피 큐빅 사람',\n",
       " '너무 많아서',\n",
       " '누군지 다 모를듯',\n",
       " '노바 왜 감',\n",
       " '나?',\n",
       " '엉',\n",
       " '끌렸어?',\n",
       " '그 소개하러 올때',\n",
       " '1등했다길래',\n",
       " '어',\n",
       " '가야겠다',\n",
       " '이름도 멋있고',\n",
       " '하',\n",
       " '고민해바',\n",
       " '오키',\n",
       " '으으ㅡ',\n",
       " '아니',\n",
       " '그럼',\n",
       " '약속 다시 잡아야함?',\n",
       " '그러지않을까?',\n",
       " '짜증나',\n",
       " '낼 안되면 화욜에 되도록',\n",
       " '추진해야겠다',\n",
       " '화욜',\n",
       " '?',\n",
       " '아',\n",
       " '이번주?',\n",
       " '아 그리',\n",
       " '치',\n",
       " '낼모레',\n",
       " '너가 선빵쳤구나',\n",
       " '빨리',\n",
       " '해버려야지',\n",
       " '안구ㅣ차낱',\n",
       " '맞긴해',\n",
       " '언제 말하나싶었어 쟤네',\n",
       " '아 그러네?',\n",
       " '공업 화학과는',\n",
       " '처음 듣는데',\n",
       " '나도',\n",
       " '웬만한 건 다아는데',\n",
       " '진짜 생소하네',\n",
       " '화학과랑 다른가',\n",
       " '화공이랑 비슷한가',\n",
       " '형진',\n",
       " '인디노래 추천좀',\n",
       " '좀 빡센거',\n",
       " 'ㅎㅎ',\n",
       " '빡센 인디? Z',\n",
       " '어떻게 빡센거',\n",
       " '아',\n",
       " '박자감',\n",
       " 'ㅎㅎ',\n",
       " '리듬',\n",
       " '오케이',\n",
       " '기대할게',\n",
       " '안돼',\n",
       " '기대금지',\n",
       " 'ㅇㅋ…',\n",
       " '검정치마를 아시나요',\n",
       " '몰라',\n",
       " '오잉',\n",
       " '?',\n",
       " '생각보다 안 유명하구나',\n",
       " '뭐야',\n",
       " '2288만회?',\n",
       " '아니 내가 잘 몰라',\n",
       " '모른다면',\n",
       " '샵검색: #everything 검정치마',\n",
       " '일단 이걸',\n",
       " '드럼',\n",
       " '시작이네',\n",
       " '박자감은 잘모르겠는데',\n",
       " '그냥 몽환적인 노래야',\n",
       " '좋지',\n",
       " '혁오',\n",
       " '느낌',\n",
       " '그치그치',\n",
       " '오',\n",
       " '이거 어디서 많이',\n",
       " '들어본 것 같은데',\n",
       " '유명해서 그런가',\n",
       " '이게 젤 히트친거라',\n",
       " '아마 들어봣을거야',\n",
       " '좋다',\n",
       " '허회경',\n",
       " '알아?',\n",
       " '그럼유',\n",
       " '노래 2개밖에 모르긴한데',\n",
       " '허회경 - 그렇게 살아가는 것',\n",
       " '이거야',\n",
       " '?',\n",
       " '어',\n",
       " '들켰다',\n",
       " '아 한개더',\n",
       " '아무것도 상관없어',\n",
       " '검정치마에서 인디 플리로 넘어가버렸다',\n",
       " 'ㅎㅎ',\n",
       " 'ㅋㅋ',\n",
       " '여성분이시네',\n",
       " '맞어 나도 남자인줄 ㅋㅋ',\n",
       " '새벽에 들으면 이제 못 벗어나',\n",
       " '무서운 장르구만',\n",
       " '이제 알고리즘에 지배당할 일만 남았다구',\n",
       " '내일 그대로 하겠는데?',\n",
       " 'ㅎㅋ',\n",
       " '개뀰',\n",
       " '아니',\n",
       " '개 에반데',\n",
       " '족보랑 똑같은게 말이 됨?',\n",
       " '아 억울해',\n",
       " '똑같다고?',\n",
       " '거의 똑같아',\n",
       " '왜 난 다르다고느꼈지',\n",
       " '그래??',\n",
       " '나이수',\n",
       " '1번 똑같고',\n",
       " '2번 숫자만 바꿨고',\n",
       " '오',\n",
       " '족보 4번이랑 3번이랑 숫자만 다르고',\n",
       " '2주차 말하는거지',\n",
       " '으',\n",
       " '1주차',\n",
       " '이거이거 노바 가야겠는데',\n",
       " '누나한테 고마워섴ㅋ',\n",
       " '노바 사람도',\n",
       " '별로없어서',\n",
       " '족보는 다 잘 챙겨줄듯',\n",
       " '사람 없어??',\n",
       " '딴데보다는',\n",
       " '큐빅이나 네넷보단 확실히 적으니까',\n",
       " '아 그려?',\n",
       " '큐빅 사람 적은 줄 알았네',\n",
       " '말하는거보면 꽤많아보이던데']"
      ]
     },
     "execution_count": 156,
     "metadata": {},
     "output_type": "execute_result"
    }
   ],
   "source": [
    "conv.mergeConversation[1][1]"
   ]
  },
  {
   "cell_type": "markdown",
   "id": "4c4b3c15-4a57-412a-80ca-a9594296fc61",
   "metadata": {
    "jp-MarkdownHeadingCollapsed": true
   },
   "source": [
    "### 요약 2.."
   ]
  },
  {
   "cell_type": "code",
   "execution_count": 166,
   "id": "fbd12d86-4cda-401d-a32e-d4bff60b6668",
   "metadata": {},
   "outputs": [],
   "source": [
    "from gensim.summarization import summarize"
   ]
  },
  {
   "cell_type": "code",
   "execution_count": 179,
   "id": "af07d7ba-00a1-44be-b4af-36350964b756",
   "metadata": {},
   "outputs": [
    {
     "data": {
      "text/plain": [
       "'건영어디갈거야동아리??예아진짜 모르겠네노바가어디였지작년 1등한 동아리?아하?!으저거오늘까지야?ㄴㄴ근데난 어디든 상관이 없어서노바 와 나 외로워아는 애가없어진짜로고민이네너무그 큐빅 회장형 보기가 그런데어차피 큐빅 사람너무 많아서누군지 다 모를듯노바 왜 감나?엉끌렸어?그 소개하러 올때1등했다길래어가야겠다이름도 멋있고하고민해바오키으으ㅡ아니그럼약속 다시 잡아야함?그러지않을까?짜증나낼 안되면 화욜에 되도록추진해야겠다화욜?아이번주?아 그리치낼모레너가 선빵쳤구나빨리해버려야지안구ㅣ차낱맞긴해언제 말하나싶었어 쟤네아 그러네?공업 화학과는처음 듣는데나도웬만한 건 다아는데진짜 생소하네화학과랑 다른가화공이랑 비슷한가형진인디노래 추천좀좀 빡센거ㅎㅎ빡센 인디? Z어떻게 빡센거아박자감ㅎㅎ리듬오케이기대할게안돼기대금지ㅇㅋ…검정치마를 아시나요몰라오잉?생각보다 안 유명하구나뭐야2288만회?아니 내가 잘 몰라모른다면샵검색: #everything 검정치마일단 이걸드럼시작이네박자감은 잘모르겠는데그냥 몽환적인 노래야좋지혁오느낌그치그치오이거 어디서 많이들어본 것 같은데유명해서 그런가이게 젤 히트친거라아마 들어봣을거야좋다허회경알아?그럼유노래 2개밖에 모르긴한데허회경 - 그렇게 살아가는 것이거야?어들켰다아 한개더아무것도 상관없어검정치마에서 인디 플리로 넘어가버렸다ㅎㅎㅋㅋ여성분이시네맞어 나도 남자인줄 ㅋㅋ새벽에 들으면 이제 못 벗어나무서운 장르구만이제 알고리즘에 지배당할 일만 남았다구내일 그대로 하겠는데?ㅎㅋ개뀰아니개 에반데족보랑 똑같은게 말이 됨?아 억울해똑같다고?거의 똑같아왜 난 다르다고느꼈지그래??나이수1번 똑같고2번 숫자만 바꿨고오족보 4번이랑 3번이랑 숫자만 다르고2주차 말하는거지으1주차이거이거 노바 가야겠는데누나한테 고마워섴ㅋ노바 사람도별로없어서족보는 다 잘 챙겨줄듯사람 없어??딴데보다는큐빅이나 네넷보단 확실히 적으니까아 그려?큐빅 사람 적은 줄 알았네말하는거보면 꽤많아보이던데'"
      ]
     },
     "execution_count": 179,
     "metadata": {},
     "output_type": "execute_result"
    }
   ],
   "source": [
    "conv.mergeConversation[1][2]"
   ]
  },
  {
   "cell_type": "code",
   "execution_count": 197,
   "id": "a3bc98d3-0d6b-4eb6-8e7d-b3403d05fded",
   "metadata": {},
   "outputs": [],
   "source": [
    "s = '''건영어디갈거야동아리??예아진짜 모르겠네노바가어디였지작년 1등한 동아리?아하?!으저거오늘까지야?ㄴㄴ근데난 어디든 상관이 없어서노바 와 나 외로워아는 애가없어진짜로고민이네너무그 큐빅 회장형 보기가 \n",
    "그런데어차피 큐빅 사람너무 많아서누군지 다 모를듯노바 왜 감나?엉끌렸어?그 소개하러 올때1등했다길래어가야겠다이름도 멋있고하고민해바오키으으ㅡ아니그럼약속 다시 잡아야함?그러지않을까?짜증나낼 안되면 화욜에 되도록추진해야겠다화욜?아이번주?아 그리치낼모레너가 선빵쳤구나빨리해버려야지안구ㅣ차낱맞긴해언제 말하나싶었어 쟤네아 그러네?공업 화학과는처음 듣는데나도웬만한 건 다아는데진짜 생소하네화학과랑 다른가화공이랑 비슷한가형진인디노래 추천좀좀 빡센거ㅎㅎ빡센 인디? Z어떻게 빡센거아박자감ㅎㅎ리듬오케이기대할게안돼기대금지ㅇㅋ…검정치마를 아시나요몰라오잉?생각보다 안 유명하구나뭐야2288만회?아니 내가 잘 몰라모른다면샵검색: \n",
    "#everything 검정치마일단 이걸드럼시작이네박자감은 잘모르겠는데그냥 몽환적인 노래야좋지혁오느낌그치그치오이거 어디서 많이들어본 것 같은데유명해서 그런가이게 젤 히트친거라아마 들어봣을거야좋다허회경알아?그럼유노래 2개밖에 모르긴한데허회경 - 그렇게 살아가는 것이거야?\n",
    "어들켰다아 한개더아무것도 상관없어검정치마에서 인디 플리로 넘어가버렸다ㅎㅎㅋㅋ여성분이시네맞어 나도 남자인줄 ㅋㅋ새벽에 들으면 이제 못 벗어나무서운 장르구만이제 알고리즘에 지배당할 일만 남았다구내일 그대로 하겠는데?ㅎㅋ개뀰아니개 에반데족보랑 똑같은게 말이 됨?아 억울해똑같다고?\n",
    "거의 똑같아왜 난 다르다고느꼈지그래??나이수1번 똑같고2번 숫자만 바꿨고오족보 4번이랑 3번이랑 숫자만 다르고2주차 말하는거지으1주차이거이거 노바 가야겠는데누나한테 고마워섴ㅋ노바 사람도별로없어서족보는 다 잘 챙겨줄듯사람 없어??딴데보다는큐빅이나 네넷보단 확실히 적으니까아 그려?큐빅 사람 적은 줄 알았네말하는거보면 꽤많아보이던데'''"
   ]
  },
  {
   "cell_type": "code",
   "execution_count": 190,
   "id": "a4ac35d9-fba6-4441-a4b9-c3cb5e12b275",
   "metadata": {},
   "outputs": [],
   "source": [
    "article = '''\n",
    "이스라엘이 오는 23일부터 실내 마스크 의무도 해제하기로 발표한 가운데 방대본은 \"실외 마스크 착용 의무를 해제하더라도 실내 마스크는 상당 기간 착용 의무를 유지할 방침\"이라고 강조했다.\n",
    "김 팀장은 계절적으로 여름이 다가오는 가운데 문 닫고 에어컨을 이용하는 습관, 3밀 환경과 지하철·버스를 많이 이용하는 생활을 고려할 때 실내마스크 해제 \"시기상조\"라며 \"굉장히 신중한 검토가 필요한 상황\"이라고 말했다.\n",
    "그는 \"향후 실외 마스크를 해제하더라도 실내에서는 고위험군을 보호하고 유증상자 등 감염될 수 있는 분을 차단할 수 있도록 상당 기간 착용 권고할 예정\"이라고 밝혔다.\n",
    "'''"
   ]
  },
  {
   "cell_type": "code",
   "execution_count": 223,
   "id": "1c465de5-b03a-4691-8b84-68ff349c1461",
   "metadata": {},
   "outputs": [
    {
     "data": {
      "text/plain": [
       "'건영어디갈거야동아리??예아진짜 모르겠네노바가어디였지작년 1등한 동아리?아하?!으저거오늘까지야?ㄴㄴ근데난 어디든 상관이 없어서노바 와 나 외로워아는 애가없어진짜로고민이네너무그 큐빅 회장형 보기가 \\nZ어떻게 빡센거아박자감ㅎㅎ리듬오케이기대할게안돼기대금지ㅇㅋ…검정치마를 아시나요몰라오잉?생각보다 안 유명하구나뭐야2288만회?아니 내가 잘 몰라모른다면샵검색: '"
      ]
     },
     "execution_count": 223,
     "metadata": {},
     "output_type": "execute_result"
    }
   ],
   "source": [
    "summarize(s,word_count = 30)"
   ]
  },
  {
   "cell_type": "code",
   "execution_count": null,
   "id": "0196d81e-0bef-442d-88c8-3c5d6f2fada5",
   "metadata": {},
   "outputs": [],
   "source": []
  },
  {
   "cell_type": "markdown",
   "id": "100338b5-e38f-4730-9b9e-c900770995f5",
   "metadata": {},
   "source": [
    "### 요약 3.."
   ]
  },
  {
   "cell_type": "code",
   "execution_count": 25,
   "id": "14da0548-3d5d-458c-8407-7f9913aee629",
   "metadata": {},
   "outputs": [
    {
     "name": "stderr",
     "output_type": "stream",
     "text": [
      "/Users/goodyoung/Desktop/대학교/korean/korean/lib/python3.11/site-packages/tqdm/auto.py:21: TqdmWarning: IProgress not found. Please update jupyter and ipywidgets. See https://ipywidgets.readthedocs.io/en/stable/user_install.html\n",
      "  from .autonotebook import tqdm as notebook_tqdm\n"
     ]
    }
   ],
   "source": [
    "from keybert import KeyBERT\n",
    "from kiwipiepy import Kiwi\n",
    "from transformers import BertModel\n",
    "\n",
    "model = BertModel.from_pretrained('skt/kobert-base-v1')\n",
    "kw_model = KeyBERT(model)"
   ]
  },
  {
   "cell_type": "code",
   "execution_count": 240,
   "id": "bb5a58cb-b754-4484-9971-c9e3676586eb",
   "metadata": {},
   "outputs": [
    {
     "data": {
      "text/plain": [
       "' 건영 어디갈거야 동아리?? 예아 진짜 모르겠네 노바가 어디였지 작년 1등 한 동아리? 아하?! 으 저거 오늘까지야? ㄴㄴ 근데 난 어디든 상관이 없어서 노바 와 나 외로워 아는 애가없어 진짜로 고민이네 너무 그 큐빅 회장형 보기가 그런데 어차피 큐빅 사람 너무 많아서 누군지 다 모를듯 노바 왜 감 나? 엉 끌렸어? 그 소개하러 올때 1등했다길래 어 가야겠다 이름도 멋있고 하 고민해바 오키 으으ㅡ 아니 그럼 약속 다시 잡아야함? 그러지않을까? 짜증나 낼 안되면 화욜에 되도록 추진해야겠다 화욜 ? 아 이번주? 아 그리 치 낼모레 너가 선빵쳤구나 빨리 해버려야지 안구ㅣ차낱 맞긴해 언제 말하나싶었어 쟤네 아 그러네? 공업 화학과는 처음 듣는데 나도 웬만한 건 다아는데 진짜 생소하네 화학과랑 다른가 화공이랑 비슷한가 형진 인디노래 추천좀 좀 빡센거 ㅎㅎ 빡센 인디? Z 어떻게 빡센거 아 박자감 ㅎㅎ 리듬 오케이 기대할게 안돼 기대금지 ㅇㅋ… 검정치마를 아시나요 몰라 오잉 ? 생각보다 안 유명하구나 뭐야 2288만회? 아니 내가 잘 몰라 모른다면 샵검색: #everything 검정치마 일단 이걸 드럼 시작이네 박자감은 잘모르겠는데 그냥 몽환적인 노래야 좋지 혁오 느낌 그치그치 오 이거 어디서 많이 들어본 것 같은데 유명해서 그런가 이게 젤 히트친거라 아마 들어봣을거야 좋다 허회경 알아? 그럼유 노래 2개밖에 모르긴한데 허회경 - 그렇게 살아가는 것 이거야 ? 어 들켰다 아 한개더 아무것도 상관없어 검정치마에서 인디 플리로 넘어가버렸다 ㅎㅎ ㅋㅋ 여성분이시네 맞어 나도 남자인줄 ㅋㅋ 새벽에 들으면 이제 못 벗어나 무서운 장르구만 이제 알고리즘에 지배당할 일만 남았다구 내일 그대로 하겠는데? ㅎㅋ 개뀰 아니 개 에반데 족보랑 똑같은게 말이 됨? 아 억울해 똑같다고? 거의 똑같아 왜 난 다르다고느꼈지 그래?? 나이수 1번 똑같고 2번 숫자만 바꿨고 오 족보 4번이랑 3번이랑 숫자만 다르고 2주차 말하는거지 으 1주차 이거이거 노바 가야겠는데 누나한테 고마워섴ㅋ 노바 사람도 별로없어서 족보는 다 잘 챙겨줄듯 사람 없어?? 딴데보다는 큐빅이나 네넷보단 확실히 적으니까 아 그려? 큐빅 사람 적은 줄 알았네 말하는거보면 꽤많아보이던데'"
      ]
     },
     "execution_count": 240,
     "metadata": {},
     "output_type": "execute_result"
    }
   ],
   "source": [
    "conv.mergeConversation[1][2]"
   ]
  },
  {
   "cell_type": "code",
   "execution_count": 241,
   "id": "b82c8a54-ed00-49ce-be85-48dae82c927c",
   "metadata": {},
   "outputs": [],
   "source": [
    "text = ' 건영 어디갈거야 동아리?? 예아 진짜 모르겠네 노바가 어디였지 작년 1등 한 동아리? 아하?! 으 저거 오늘까지야? ㄴㄴ 근데 난 어디든 상관이 없어서 노바 와 나 외로워 아는 애가없어 진짜로 고민이네 너무 그 큐빅 회장형 보기가 그런데 어차피 큐빅 사람 너무 많아서 누군지 다 모를듯 노바 왜 감 나? 엉 끌렸어? 그 소개하러 올때 1등했다길래 어 가야겠다 이름도 멋있고 하 고민해바 오키 으으ㅡ 아니 그럼 약속 다시 잡아야함? 그러지않을까? 짜증나 낼 안되면 화욜에 되도록 추진해야겠다 화욜 ? 아 이번주? 아 그리 치 낼모레 너가 선빵쳤구나 빨리 해버려야지 안구ㅣ차낱 맞긴해 언제 말하나싶었어 쟤네 아 그러네? 공업 화학과는 처음 듣는데 나도 웬만한 건 다아는데 진짜 생소하네 화학과랑 다른가 화공이랑 비슷한가 형진 인디노래 추천좀 좀 빡센거 ㅎㅎ 빡센 인디? Z 어떻게 빡센거 아 박자감 ㅎㅎ 리듬 오케이 기대할게 안돼 기대금지 ㅇㅋ… 검정치마를 아시나요 몰라 오잉 ? 생각보다 안 유명하구나 뭐야 2288만회? 아니 내가 잘 몰라 모른다면 샵검색: #everything 검정치마 일단 이걸 드럼 시작이네 박자감은 잘모르겠는데 그냥 몽환적인 노래야 좋지 혁오 느낌 그치그치 오 이거 어디서 많이 들어본 것 같은데 유명해서 그런가 이게 젤 히트친거라 아마 들어봣을거야 좋다 허회경 알아? 그럼유 노래 2개밖에 모르긴한데 허회경 - 그렇게 살아가는 것 이거야 ? 어 들켰다 아 한개더 아무것도 상관없어 검정치마에서 인디 플리로 넘어가버렸다 ㅎㅎ ㅋㅋ 여성분이시네 맞어 나도 남자인줄 ㅋㅋ 새벽에 들으면 이제 못 벗어나 무서운 장르구만 이제 알고리즘에 지배당할 일만 남았다구 내일 그대로 하겠는데? ㅎㅋ 개뀰 아니 개 에반데 족보랑 똑같은게 말이 됨? 아 억울해 똑같다고? 거의 똑같아 왜 난 다르다고느꼈지 그래?? 나이수 1번 똑같고 2번 숫자만 바꿨고 오 족보 4번이랑 3번이랑 숫자만 다르고 2주차 말하는거지 으 1주차 이거이거 노바 가야겠는데 누나한테 고마워섴ㅋ 노바 사람도 별로없어서 족보는 다 잘 챙겨줄듯 사람 없어?? 딴데보다는 큐빅이나 네넷보단 확실히 적으니까 아 그려? 큐빅 사람 적은 줄 알았네 말하는거보면 꽤많아보이던데'"
   ]
  },
  {
   "cell_type": "code",
   "execution_count": 69,
   "id": "bbda27aa-8d35-44df-940d-5d9e394bd9b3",
   "metadata": {},
   "outputs": [],
   "source": [
    "text = conv.mergeConversation[-1][2]"
   ]
  },
  {
   "cell_type": "code",
   "execution_count": 256,
   "id": "b293493a-2ce1-49da-b914-c3dadc741f96",
   "metadata": {},
   "outputs": [
    {
     "data": {
      "text/plain": [
       "' 살아있나 살아있네여 근데 독감 걸린듯 아 어제 약간 느낌이 어 딱 이건 몸살이다 하고 머리도 살짝 바로 자지 아프기시작하면서~ 바로 누웠디 지금 아픔?? 그냥 털옷입고 잠 지금은 버틸만해 버텨야지 안그럼 재수강인골~ 교양 결석마렵다 3시간 인데 흠 2시네 맞지 컴구 에바 ㅎㅎ 아 자구까지 같이들어오니까 엉 죽을맛이다 그러겠어 정말 인생 이틀 남은거 자구 컴구 객프? 실화? ㅎㅎ 맞아 내 미랜데 하하 ㅎㅎ 공윤사 도 있다는사실 그건 난 금욜에 그것만 있어서 ㅎㅎ 오 개부럽 목욜이 뒤짐 3개임 상당한걸? ;;그러니까 교양때 자구 딱대 뒤에 자리잡아야지 교양은 수업이 아니더라 ㄹ 하 컴구 연습문제 푸니? ㅠ 연습문제 풀어야할더같아 그른가 ㅎㅎ 가야지가야지 아직도 수업? 쑤업끝낫지 빨리 끝나네 하 어지롭네 하기 싫다 인정드립니다 아 ? 무수한 굴레와 속박에 있는거같다 아니지 자구 개재밋다 내가 다 혼내줘야지~ 미쳤눙 컴구나 답지 하… ㅎㅎ 책에 답지 없으면 근데 공부어케해 ㄹㅇ 진짜 난 모르겠어 이악물고 버티자 오우 앙 ㅎ 낼 동방 감? 내일 안갈거같은디 셤끝나고갈듯 아 낼 선대가 마지막인가? 예압버디 ㅋㅋ 빡공이시네 그러면 좋겠읍니다 나도 내가 빡공하는거 같지 않아 ?? 그럼 어려워요 죽겠어요 자구요? 네 전 컴구요 후욱 컨디션이 지하에 박혀있네요 ㅇㅈ 나도 몇시에 자? 그걸 정해두는건 술 마시다 몇시에 들어갈지 정하는 것과 같아 아하? 너 좀 강하다? 나약합니다 감기나 걸리고 졸린데 잘까 그것도 나쁘지않은선택'"
      ]
     },
     "execution_count": 256,
     "metadata": {},
     "output_type": "execute_result"
    }
   ],
   "source": [
    "conv.mergeConversation[24][2]"
   ]
  },
  {
   "cell_type": "code",
   "execution_count": 253,
   "id": "d63379ca-fa8a-483e-91b2-7db4295d7e0b",
   "metadata": {},
   "outputs": [],
   "source": [
    "b = conv.mergeConversation[24][2]"
   ]
  },
  {
   "cell_type": "code",
   "execution_count": 70,
   "id": "76f7e9c2-1852-4953-939d-df0609cc8239",
   "metadata": {},
   "outputs": [
    {
     "name": "stdout",
     "output_type": "stream",
     "text": [
      "인터스텔라 스포 인터스텔라 도서관 아빠 엄마 동생 동생 이해 대화 인터스텔라 센 치히로 행방불명 봤 센 치히로 봤지 센 치히로 지브리 지브리 센 치히로 돼지 돼지 비하 신고 신고 돼지 존경 동경 하쿠 돼지고기 멋 쿠 남자 여자 존 남자 남자 거 하쿠 여자 아쉬움 수 조금 대화 뭐였 체육 대회 종목 몸 오 후 삼각근 알 배미 상품 대 체육 대회 개 이득 것 때 거 시간 체육 대회 술 닭발 삼겹살 돈 지리지 원 가성비 지리 입 술 술 술 잔 소오주 볼 것 핫식스 카페인 덩어리 번\n"
     ]
    }
   ],
   "source": [
    "kiwi = Kiwi()\n",
    "result_text = ''\n",
    "for sentence in kiwi.analyze(b):\n",
    "    nouns = []\n",
    "    for token in sentence[0]:\n",
    "        if token.tag.startswith('NN'):\n",
    "            nouns.append(token.form)\n",
    "    if nouns:\n",
    "        result_text = ' '.join(nouns)\n",
    "print(result_text)"
   ]
  },
  {
   "cell_type": "code",
   "execution_count": 248,
   "id": "67e64492-e6b0-4c97-83bd-8e9f22f3b4cb",
   "metadata": {},
   "outputs": [],
   "source": [
    "result_text = \"건영 거 동아리 노바 작년 등 동아리 오늘 상관 노바 애 고민 큐빅 회장 큐빅 사람 듯 노바 소개 때 등 이름 고민 해바 오키 약속 짜증 화욜 추진 화욜 이번 주 낼 모레 빵 안구 차낱 말 쟤네 공업 학과 거 화학과 화공 형 인디 노래 추천 거 인디 거 박자 감 리듬 기대 것 기대 금지 검정치마 오잉 생각 유명 회 샵 검색 검정치마 드럼 시작 박자 몽환 노래 혁오 느낌 것 유명 히트 거 거 허회 경 유 노래 개 허회경 것 개 아무것 검정치마 인디 플리 여성분 남자 인줄 새벽 장르 알고리즘 지배 일 내일 개뀰 개 에바 족보 것 말 나이 수 번 번 숫자 오 족보 번 번 숫자 주 차 말 거 주 차 이거이 노바 누나 노바 사람 족보 듯 사람 데 큐빅 네넷 큐빅 사람 줄 말 거\""
   ]
  },
  {
   "cell_type": "code",
   "execution_count": 26,
   "id": "088878c2-c7ee-473e-b3f7-0d4cba96a19c",
   "metadata": {},
   "outputs": [],
   "source": [
    "s = \"근데 난 어디든 상관이 없어서 노바 와 나 외로워 아는 애가없어 진짜로 고민이네 너무 그 큐빅 회장형 보기가 그런데 어차피 큐빅 사람 너무 많아서 누군지 다 모를듯 노바 왜 감 나입니다.\""
   ]
  },
  {
   "cell_type": "code",
   "execution_count": 27,
   "id": "501b8849-b0ec-47be-a12d-e13e0170530a",
   "metadata": {
    "scrolled": true
   },
   "outputs": [
    {
     "data": {
      "text/plain": [
       "[('외로워', 0.5194),\n",
       " ('모를듯', 0.4456),\n",
       " ('큐빅', 0.4225),\n",
       " ('나입니다', 0.3662),\n",
       " ('너무', 0.3496),\n",
       " ('사람', 0.3441),\n",
       " ('노바', 0.3402),\n",
       " ('그런데', 0.3357),\n",
       " ('누군지', 0.3352),\n",
       " ('아는', 0.3323),\n",
       " ('애가없어', 0.3302),\n",
       " ('어차피', 0.3141),\n",
       " ('어디든', 0.3039),\n",
       " ('보기가', 0.2873),\n",
       " ('없어서', 0.2848),\n",
       " ('진짜로', 0.2846),\n",
       " ('많아서', 0.2798),\n",
       " ('근데', 0.2771),\n",
       " ('고민이네', 0.2703),\n",
       " ('회장형', 0.2399),\n",
       " ('상관이', 0.2286)]"
      ]
     },
     "execution_count": 27,
     "metadata": {},
     "output_type": "execute_result"
    }
   ],
   "source": [
    "keywords = kw_model.extract_keywords(s, keyphrase_ngram_range=(1, 1), stop_words=None, top_n=30)\n",
    "keywords"
   ]
  },
  {
   "cell_type": "code",
   "execution_count": 71,
   "id": "c59127fa-2773-4791-82fd-a871971eed09",
   "metadata": {},
   "outputs": [
    {
     "data": {
      "text/plain": [
       "[('남자', 0.644),\n",
       " ('치히로', 0.6357),\n",
       " ('아빠', 0.6032),\n",
       " ('봤지', 0.5981),\n",
       " ('비하', 0.5976),\n",
       " ('소오주', 0.5965),\n",
       " ('뭐였', 0.5745),\n",
       " ('신고', 0.5621),\n",
       " ('대화', 0.5482),\n",
       " ('가성비', 0.5473),\n",
       " ('인터스텔라', 0.5467),\n",
       " ('엄마', 0.5424),\n",
       " ('아쉬움', 0.5324),\n",
       " ('조금', 0.5196),\n",
       " ('여자', 0.5006),\n",
       " ('돼지', 0.497),\n",
       " ('지리지', 0.4955),\n",
       " ('하쿠', 0.4865),\n",
       " ('종목', 0.4732),\n",
       " ('돼지고기', 0.4636),\n",
       " ('배미', 0.4588),\n",
       " ('이해', 0.4484),\n",
       " ('지브리', 0.4446),\n",
       " ('지리', 0.4319),\n",
       " ('행방불명', 0.429),\n",
       " ('삼겹살', 0.4183),\n",
       " ('덩어리', 0.412),\n",
       " ('존경', 0.3977),\n",
       " ('대회', 0.3956),\n",
       " ('스포', 0.3702)]"
      ]
     },
     "execution_count": 71,
     "metadata": {},
     "output_type": "execute_result"
    }
   ],
   "source": [
    "keywords = kw_model.extract_keywords(result_text, keyphrase_ngram_range=(1, 1), stop_words=None, top_n=30)\n",
    "keywords"
   ]
  },
  {
   "cell_type": "code",
   "execution_count": null,
   "id": "f65ed577-14b0-4538-9b22-a3f48d84cc7f",
   "metadata": {},
   "outputs": [],
   "source": []
  },
  {
   "cell_type": "markdown",
   "id": "bd17784b-8938-4bbc-bb66-25503feb2e61",
   "metadata": {},
   "source": [
    "### 요약 4..."
   ]
  },
  {
   "cell_type": "code",
   "execution_count": 4,
   "id": "6b7a0593-f443-494d-a3f7-e98b0f43b000",
   "metadata": {},
   "outputs": [
    {
     "name": "stdout",
     "output_type": "stream",
     "text": [
      "{\n",
      "    \"document\": {\n",
      "        \"content\": \"\\ub098\\ub294 \\uc778\\ud130\\uc2a4\\ud154\\ub77c \\ubd24\\uc5b4 \\ub09c \\uc548\\ubd24\\ub294\\ub370 \\uc7ac\\ubc0c\\uc5b4? \\uc2a4\\ud3ec\\ud574\\uc904\\uae4c? \\u3131\\u3131 \\uc778\\ud130\\uc2a4\\ud154\\ub77c\\ub294 \\ub3c4\\uc11c\\uad00\\uc5d0\\uc11c \\uc544\\ube60\\uac00 \\ub098\\uc640. \\uc544\\ub2c8 \\uc5c4\\ub9c8\\uac00 \\uc544\\ub2c8 \\ubb50\\uc600\\uc9c0. \\ub3d9\\uc0dd \\uc544\\ub2c8 \\uc5ec \\ub3d9\\uc0dd \\uc774\\ud574\\ud588\\uc5b4? \\u3147\\u314e \\ub098\\ub9cc \\ub300\\ud654\\ud558\\ub2c8? \\uadf8\\ub7ec\\ub2e4\\uac00 \\uadf8\\ub7f4\\uae4c? \\uc5b4\\ub835\\ub2e4 \\uc778\\ud130\\uc2a4\\ud154\\ub77c \\uc13c\\uacfc \\uce58\\ud788\\ub85c\\uc758 \\ud589\\ubc29\\ubd88\\uba85 \\ubd24\\uc5b4? \\uc13c\\uacfc \\uce58\\ud788\\ub85c \\ubd24\\uc9c0 \\uc13c \\uce58\\ud788\\ub85c \\ub098 \\uc9c0\\ube0c\\ub9ac \\uc88b\\uc544\\ud558\\uac70\\ub4e0 \\uc9c0\\ube0c\\ub9ac \\uc88b\\uc544\\ud574? \\ub098\\ub294 \\uc13c\\uacfc \\uce58\\ud788\\ub85c\\uc5d0 \\ub098\\uc624\\ub294 \\ub3fc\\uc9c0\\ub97c \\ubcf4\\uace0 \\uc6b8\\uc5c8\\uc5b4 \\ub108\\ubb34 \\uc2ac\\ud504\\uac8c \\uc0dd\\uaca8\\uc11c \\uadf8\\uac70 \\ub3fc\\uc9c0 \\ube44\\ud558\\uc544\\ub2c8\\uc57c? \\uc2e0\\uace0 \\uc2e0\\uace0\\ud558\\uc9c0\\ub9c8. \\ub098\\ub294 \\ub3fc\\uc9c0\\ub97c \\uc88b\\uc544\\ud558\\uba70 \\uc874\\uacbd\\ud558\\uba70 \\ub3d9\\uacbd\\ud574 \\ub09c \\uac70\\uae30 \\ud558\\ucfe0\\uac00 \\ub3fc\\uc9c0\\uace0\\uae30 \\uba39\\uace0\\uc2f6\\ub124 \\uc880 \\uba4b\\uc788\\ub354\\ub77c \\uc751 \\uc624 \\ud558\\ucfe0\\ub294 \\ub0a8\\uc790\\uc57c \\uc5ec\\uc790\\uc57c? \\uc874\\uc798 \\ub0a8\\uc790 \\ub0a8\\uc790\\uad6c\\ub098 \\ubab0\\ub790\\uc5b4. \\ub098\\ub3c4 \\uc800\\ub807\\uac8c \\ud0dc\\uc5b4\\ub0a0\\uac78 \\ud558\\ucfe0\\ub294 \\uc5ec\\uc790 \\ub2ee\\uc558\\ub354\\ub77c\\uace0 \\uc544\\uc26c\\uc6c0\\uc774 \\ub0a8\\uc544 \\uc544\\ud558? \\uadf8\\ub7f4 \\uc21c \\uc5c6\\uc5b4 \\uc6b0\\ub9ac \\uc870\\uae08\\ub9cc \\ub354 \\ub300\\ud654\\ud574\\uc57c\\ud574 \\uc5b4\\uc81c \\ubb50\\uc600\\u3148 \\uccb4\\uc721\\ub300\\ud68c \\uac14\\uc5b4? \\uc5b4\\uc81c \\uc804 \\uc885\\ubaa9 \\ub2e4 \\ub098\\uac14\\uc9c0. \\uc628 \\ubab8\\uc774 \\ub2e4 \\uc464\\uc154 \\uc624 \\uc2ec\\uc9c0\\uc5b4 \\uc774\\uacbc\\uc5b4? \\ud6c4\\uba74\\uc0bc\\uac01\\uadfc\\uae4c\\uc9c0 \\uc54c \\ubc30\\uacbc\\uc5b4. \\uc624 \\uc774\\uacbc\\uc9c0 \\uadf8\\ub798\\uc11c \\uc9c4\\uc9dc? \\ubc30\\ubbfc\\uc0c1\\ud488\\uad8c \\uc900\\ub300 \\uccb4\\uc721\\ub300\\ud68c \\uc774\\uacbc\\uad6c\\ub098?! \\uac1c\\uc774\\ub4dd \\ub098\\ub3c4 \\uac08\\uac8c \\uadf8\\ub550 \\uc5b8\\uc81c \\uc62c\\uac74\\ub370 \\ub2f9\\uc2e0 \\ub09c \\uc2dc\\uac04\\uc774 \\ub418\\uba74 \\uccb4\\uc721\\ub300\\ud68c\\uc5d0\\uc11c \\uc220\\ub3c4 \\ub9c8\\uc2dc\\uace0 \\ub2ed\\ubc1c\\ub3c4 \\uba39\\uace0 \\uc0bc\\uacb9\\uc0b4\\ub3c4 \\uba39\\uc5c8\\uc5b4 \\ub3c8\\ub3c4 \\ub0b4\\uace0? \\uc9c0\\ub9ac\\uc9c0 \\ub9cc\\uc6d0 \\ub0c8\\ub294\\ub370 \\uac00\\uc131\\ube44 \\uc9c0\\ub9ac\\ub124 \\ub09c \\ud55c\\uc785 \\ubc16\\uc5d0 \\uc548 \\uba39\\uc5c8\\uc5b4 \\uc5b4\\uba38 \\ub204\\uac00 \\ub2e4 \\uba39\\uc5c8\\uc744\\uae4c. \\uc220\\uc740 \\ub204\\uac00 \\ub9c8\\uc168\\uc5b4 \\uc220\\ub3c4 \\ub2e4 \\ub9c8\\uc168\\ub098. \\ub09c \\uc220 \\ud55c \\uc794 \\ub9c8\\uc168\\uc5b4. \\uc18c\\uc624\\uc8fc? \\ud558\\uc774\\ubcfc \\ub9db\\uc788\\uc5c8\\uaca0\\ub2e4. \\ub9db\\uc788\\ub354\\ub77c \\uc774\\ub9cc\\ud558\\uba74 \\ub420 \\uac83 \\uac19\\uc740\\ub370 \\ud56b\\uc2dd\\uc2a4\\ub791 \\uc11e\\uc73c\\uba74 \\uc880 \\ub9db\\uc788\\uc5b4\\uc9d0. \\uce74\\ud398\\uc778 \\ub369\\uc5b4\\ub9ac\\ub124 \\u3147\\u3148 \\uace7 \\ub4a4\\uc9d0 \\uc774\\uac78 \\ud55c \\ubc88 \\ub3cc\\ub824\\ubcfc\\uac8c \\u314e\\u314e\",\n",
      "        \"title\": \"'\\ud558\\ub8e8 2000\\uc5b5' \\ud310 \\ucee4\\uc9c0\\ub294 \\uac04\\ud3b8\\uc1a1\\uae08 \\uc2dc\\uc7a5\"\n",
      "    },\n",
      "    \"option\": {\n",
      "        \"language\": \"ko\",\n",
      "        \"model\": \"news\",\n",
      "        \"summaryCount\": \"3\",\n",
      "        \"tone\": \"2\"\n",
      "    }\n",
      "}\n",
      "{\"summary\":\"술은 누가 마셨어 술도 다 마셨습니까?\"}\n"
     ]
    }
   ],
   "source": [
    "import sys\n",
    "import requests\n",
    "import json\n",
    "client_id = \" X-NCP-APIGW-API-KEY-ID\"\n",
    "client_secret = \" X-NCP-APIGW-API-KEY\"\n",
    "headers = {\n",
    "    \"X-NCP-APIGW-API-KEY-ID\": \"yukhq4rjut\",\n",
    "    \"X-NCP-APIGW-API-KEY\": \"WobdjgWwkOFR8Qs8hyeGAl9gyh4OG0Je33Ofq34x\",\n",
    "    \"Content-Type\": \"application/json\"\n",
    "}\n",
    "language = \"ko\" # Language of document (ko, ja )\n",
    "model = \"news\" # Model used for summaries (general, news)\n",
    "tone = \"2\" # Converts the tone of the summarized result. (0, 1, 2, 3)\n",
    "summaryCount = \"3\" # This is the number of sentences for the summarized document.\n",
    "url= \"https://naveropenapi.apigw.ntruss.com/text-summary/v1/summarize\" \n",
    "title= \"'하루 2000억' 판 커지는 간편송금 시장\"\n",
    "content = '건영 어디갈거야 동아리?? 예아 진짜 모르겠네 노바가 어디였지 작년 1등 한 동아리? 아하?! 으 저거 오늘까지야? ㄴㄴ 근데 난 어디든 상관이 없어서 노바 와 나 외로워 아는 애가없어 진짜로 고민이네 너무 그 큐빅 회장형 보기가 그런데 어차피 큐빅 사람 너무 많아서 누군지 다 모를듯 노바 왜 감 나? 엉 끌렸어? 그 소개하러 올때 1등했다길래 어 가야겠다 이름도 멋있고 하 고민해바 오키 으으ㅡ 아니 그럼 약속 다시 잡아야함? 그러지않을까? 짜증나 낼 안되면 화욜에 되도록 추진해야겠다 화욜 ? 아 이번주? 아 그리 치 낼모레 너가 선빵쳤구나 빨리 해버려야지 안구ㅣ차낱 맞긴해 언제 말하나싶었어 쟤네 아 그러네? 공업 화학과는 처음 듣는데 나도 웬만한 건 다아는데 진짜 생소하네 화학과랑 다른가 화공이랑 비슷한가 형진 인디노래 추천좀 좀 빡센거 ㅎㅎ 빡센 인디? Z 어떻게 빡센거 아 박자감 ㅎㅎ 리듬 오케이 기대할게 안돼 기대금지 ㅇㅋ… 검정치마를 아시나요 몰라 오잉 ? 생각보다 안 유명하구나 뭐야 2288만회? 아니 내가 잘 몰라 모른다면 샵검색: #everything 검정치마 일단 이걸 드럼 시작이네 박자감은 잘모르겠는데 그냥 몽환적인 노래야 좋지 혁오 느낌 그치그치 오 이거 어디서 많이 들어본 것 같은데 유명해서 그런가 이게 젤 히트친거라 아마 들어봣을거야 좋다 허회경 알아? 그럼유 노래 2개밖에 모르긴한데 허회경 - 그렇게 살아가는 것 이거야 ? 어 들켰다 아 한개더 아무것도 상관없어 검정치마에서 인디 플리로 넘어가버렸다 ㅎㅎ ㅋㅋ 여성분이시네 맞어 나도 남자인줄 ㅋㅋ 새벽에 들으면 이제 못 벗어나 무서운 장르구만 이제 알고리즘에 지배당할 일만 남았다구 내일 그대로 하겠는데? ㅎㅋ 개뀰 아니 개 에반데 족보랑 똑같은게 말이 됨? 아 억울해 똑같다고? 거의 똑같아 왜 난 다르다고느꼈지 그래?? 나이수 1번 똑같고 2번 숫자만 바꿨고 오 족보 4번이랑 3번이랑 숫자만 다르고 2주차 말하는거지 으 1주차 이거이거 노바 가야겠는데 누나한테 고마워섴ㅋ 노바 사람도 별로없어서 족보는 다 잘 챙겨줄듯 사람 없어?? 딴데보다는 큐빅이나 네넷보단 확실히 적으니까 아 그려? 큐빅 사람 적은 줄 알았네 말하는거보면 꽤많아보이던데'\n",
    "content = '나는 인터스텔라 봤어 난 안봤는데 재밌어? 스포해줄까? ㄱㄱ 인터스텔라는 도서관에서 아빠가 나와. 아니 엄마가 아니 뭐였지. 동생 아니 여 동생 이해했어? ㅇㅎ 나만 대화하니? 그러다가 그럴까? 어렵다 인터스텔라 센과 치히로의 행방불명 봤어? 센과 치히로 봤지 센 치히로 나 지브리 좋아하거든 지브리 좋아해? 나는 센과 치히로에 나오는 돼지를 보고 울었어 너무 슬프게 생겨서 그거 돼지 비하아니야? 신고 신고하지마. 나는 돼지를 좋아하며 존경하며 동경해 난 거기 하쿠가 돼지고기 먹고싶네 좀 멋있더라 응 오 하쿠는 남자야 여자야? 존잘 남자 남자구나 몰랐어. 나도 저렇게 태어날걸 하쿠는 여자 닮았더라고 아쉬움이 남아 아하? 그럴 순 없어 우리 조금만 더 대화해야해 어제 뭐였ㅈ 체육대회 갔어? 어제 전 종목 다 나갔지. 온 몸이 다 쑤셔 오 심지어 이겼어? 후면삼각근까지 알 배겼어. 오 이겼지 그래서 진짜? 배민상품권 준대 체육대회 이겼구나?! 개이득 나도 갈게 그땐 언제 올건데 당신 난 시간이 되면 체육대회에서 술도 마시고 닭발도 먹고 삼겹살도 먹었어 돈도 내고? 지리지 만원 냈는데 가성비 지리네 난 한입 밖에 안 먹었어 어머 누가 다 먹었을까. 술은 누가 마셨어 술도 다 마셨나. 난 술 한 잔 마셨어. 소오주? 하이볼 맛있었겠다. 맛있더라 이만하면 될 것 같은데 핫식스랑 섞으면 좀 맛있어짐. 카페인 덩어리네 ㅇㅈ 곧 뒤짐 이걸 한 번 돌려볼게 ㅎㅎ'\n",
    "data = {\n",
    "    \"document\": {\n",
    "    \"title\": title,\n",
    "    \"content\" : content\n",
    "    },\n",
    "    \"option\": {\n",
    "    \"language\": language,\n",
    "    \"model\": model,\n",
    "    \"tone\": tone,\n",
    "    \"summaryCount\" : summaryCount\n",
    "    }\n",
    "}\n",
    "print(json.dumps(data, indent=4, sort_keys=True))\n",
    "response = requests.post(url, data=json.dumps(data), headers=headers)\n",
    "rescode = response.status_code\n",
    "if(rescode == 200):\n",
    "    print (response.text)\n",
    "else:\n",
    "    print(\"Error : \" + response.text)"
   ]
  },
  {
   "cell_type": "markdown",
   "id": "ec6cbaa8-dbd7-45b8-8e14-2709a0ed3c52",
   "metadata": {},
   "source": [
    "#### 종합"
   ]
  },
  {
   "cell_type": "code",
   "execution_count": null,
   "id": "9fa09f31-302d-4add-bdbc-f83a2c8b22a1",
   "metadata": {},
   "outputs": [],
   "source": [
    "conv.mergeConversation[-1][2]"
   ]
  },
  {
   "cell_type": "code",
   "execution_count": 60,
   "id": "cd830269-31e5-4f7c-b598-a283e5ca92e8",
   "metadata": {},
   "outputs": [
    {
     "data": {
      "text/plain": [
       "' 나는 인터스텔라 봤어 난 안봤는데 재밌어? 스포해줄까? ㄱㄱ 인터스텔라는 도서관에서 아빠가 나와 아니 엄마가 아니 뭐였지 동생 아니 여 동생 이해했어? ㅇㅎ 나만 대화하니? 이게 다 중요하다고 딴걸로 가자 그러다가 그럴까? 어렵다 인터스텔라 센과 치히로의 행방불명 봤ㅇ? 센과 치히로 봤지 센 치히로 나 지브리 좋아하거든 지브리 좋아해? 나는 센과 치히로에 나오는 돼지를 보고 울었어 너무 슬프게 생겨서 그거 돼지 비하아니야? 신고 신고하지마 나는 돼지를 좋아하며 존경하며 동경해 난 거기 하쿠가 돼지고기 먹고싶네 좀 멋있더라 응 오 하쿠는 남자야 여자야? 존잘 남자 남자구나 몰랐어 나도 저렇게 태어날걸 하쿠는 여자 닮았더라고 아쉬움이 남아 아하? 그럴 순 없어 우리 조금만 더 대화해야해 어제 뭐였ㅈ 체육대회 갔어? 어제 전 종목 다 나갔지 온 몸이 다 쑤셔 오 심지어 이겼어? 후면삼각근까지 알 배겼어 오 이겼지 그래서 진짜? 배민상품권 준대 체육대회 이겼구나?! 개이득 나도 갈게 그땐 언제 올건데 당신 난 시간이 되면 체육대회에서 술도 마시고 닭발도 먹고 삼겹살도 먹었어 돈도 내고? 지리지 만원 냈는데 가성비 지리네 난 한입 밖에 안 먹었어 어머 누가 다 먹었을까 술은 누가 마셨어 술도 다 마셨나 난 술 한 잔 마셨어 소오주? 하이볼 맛있었겠다 맛있더라 이만하면 될 것 같은데 핫식스랑 섞으면 좀 맛있어짐 카페인 덩어리네 ㅇㅈ 곧 뒤짐 이걸 한 번 돌려볼게 ㅎㅎ'"
      ]
     },
     "execution_count": 60,
     "metadata": {},
     "output_type": "execute_result"
    }
   ],
   "source": [
    "ㅠconv.mergeConversation[-1][2]"
   ]
  },
  {
   "cell_type": "code",
   "execution_count": 65,
   "id": "4fbabd84-a68c-4aa2-9d65-a511f03c4721",
   "metadata": {},
   "outputs": [],
   "source": [
    "b = ''' 나는 인터스텔라 봤어 난 안봤는데 재밌어? 스포해줄까? ㄱㄱ 인터스텔라는 도서관에서 아빠가 나와 아니 엄마가 아니 뭐였지 동생 아니 여 동생 이해했어? ㅇㅎ 나만 대화하니? 그러다가 그럴까? 어렵다 인터스텔라 센과 치히로의 행방불명 봤ㅇ? 센과 치히로 봤지 센 치히로 나 지브리 좋아하거든 지브리 좋아해? 나는 센과 치히로에 나오는 돼지를 보고 울었어 너무 슬프게 생겨서 그거 돼지 비하아니야? 신고 신고하지마 나는 돼지를 좋아하며 존경하며 동경해 난 거기 하쿠가 돼지고기 먹고싶네 좀 멋있더라 응 오 하쿠는 남자야 여자야? 존잘 남자 남자구나 몰랐어 나도 저렇게 태어날걸 하쿠는 여자 닮았더라고 아쉬움이 남아 아하? 그럴 순 없어 우리 조금만 더 대화해야해 어제 뭐였ㅈ 체육대회 갔어? 어제 전 종목 다 나갔지 온 몸이 다 쑤셔 오 심지어 이겼어? 후면삼각근까지 알 배겼어 오 이겼지 그래서 진짜? 배민상품권 준대 체육대회 이겼구나?! 개이득 나도 갈게 그땐 언제 올건데 당신 난 시간이 되면 체육대회에서 술도 마시고 닭발도 먹고 삼겹살도 먹었어 돈도 내고? 지리지 만원 냈는데 가성비 지리네 난 한입 밖에 안 먹었어 어머 누가 다 먹었을까 술은 누가 마셨어 술도 다 마셨나 난 술 한 잔 마셨어 소오주? 하이볼 맛있었겠다 맛있더라 이만하면 될 것 같은데 핫식스랑 섞으면 좀 맛있어짐 카페인 덩어리네 ㅇㅈ 곧 뒤짐 이걸 한 번 돌려볼게 ㅎㅎ'''\n"
   ]
  },
  {
   "cell_type": "code",
   "execution_count": 68,
   "id": "de929a5f-450b-4191-b50e-e68618dfcc3a",
   "metadata": {},
   "outputs": [
    {
     "name": "stdout",
     "output_type": "stream",
     "text": [
      "{\n",
      "    \"document\": {\n",
      "        \"content\": \" \\ud615\\uc9c4\\uc528 \\uc2dc\\uc2a4\\ud15c\\uc18c\\ud504\\ud2b8\\uc6e8\\uc5b4 \\ud560 \\ub54c math \\ub77c\\uc774\\ube0c\\ub7ec\\ub9ac\\ub294 \\uc0ac\\uc6a9\\ud574\\ub3c4 \\ub418\\ub294\\uac70\\uc5d0\\uc694? \\uc774\\uac78 \\uc368\\ub3c4 \\ub418\\ub294\\uc9c0 \\ud655\\uc778 \\ud558\\ub294 \\ubc29\\ubc95\\uc774 \\uc788\\uc5b4? \\uc548\\ub420\\uac70\\uc788\\ub098\\uc5ec math\\ub85c \\uc678\\ubd80 \\ub77c\\uc774\\ube0c\\ub7ec\\ub9ac \\ubc0f \\uc678\\ubd80 \\ud5e4\\ub354\\ub294 \\uc0ac\\uc6a9 \\ubd88\\uac00\\ud569\\ub2c8\\ub2e4 \\ubb50\\uc4f0\\uc2e4\\ub824\\uace0 \\ub77c\\uace0 \\ub418\\ub358\\ub370 sqrt \\uc4f0\\ub824\\uace0 \\ud569\\ub2c8\\ub2e4 math\\uac00 \\ub0b4\\uc7a5\\uc778\\uac00 \\uadf8\\uac78 \\ubd10\\uc57c\\ud558\\ub098? \\uadf8\\ub798\\uc57c\\ud560\\ub4ef\\ud55c\\ub370 \\uadfc\\ub370 math\\ub294 \\uc678\\ubd80\\uac19\\uc9c4 \\uc54a\\uc740\\ub370 \\ud45c\\uc900 \\ub77c\\uc774\\ube0c\\ub7ec\\ub9ac\\ub798 \\uadf8\\ub7fc \\ub41c\\uac74\\uac00? \\ub418\\uaca0\\uc9c0 \\ubb50 \\uc678\\ubd80\\ub294 \\ubb54\\uac00 \\ub354 \\uc774\\uc0c1\\ud55c \\ub77c\\uc774\\ube0c\\ub7ec\\ub9ac\\ucc98\\ub7fc \\uc0dd\\uacbc\\uc744 \\uac70 \\uac19\\uc74c \\ub77c\\uc774\\ube0c\\ub7ec\\ub9ac\\ub294 \\ud45c\\uc900 \\ub77c\\uc774\\ube0c\\ub7ec\\ub9ac\\uc640 \\uc678\\ubd80 \\ub77c\\uc774\\ube0c\\ub7ec\\ub9ac\\ub85c \\uad6c\\ubd84\\ud560 \\uc218 \\uc788\\ub2e4. \\ud45c\\uc900 \\ub77c\\uc774\\ube0c\\ub7ec\\ub9ac\\ub294 \\ud504\\ub85c\\uadf8\\ub798\\ubc0d \\uc5b8\\uc5b4\\uc5d0 \\ub9de\\ub124 \\u314e\\u314e \\ud734 \\uc88b\\uc2b5\\ub2c8\\ub2e4 \\uac10\\uc0bc\\ub3e0 \\u314e\\u314e \\uc6d0\\ub798 \\uc774\\uac70 \\uc624\\ub798\\uac78\\ub9ac\\ub098\\uc694? \\uc0ac\\uc2e4 \\uc800 \\uc544\\uc9c1 \\uc2dc\\uc791\\uc744 \\uc548\\ud574\\uc11c \\uc544\\ud558 \\uc624\\ucf00\\uc774\",\n",
      "        \"title\": \"'\"\n",
      "    },\n",
      "    \"option\": {\n",
      "        \"language\": \"ko\",\n",
      "        \"model\": \"news\",\n",
      "        \"summaryCount\": \"3\",\n",
      "        \"tone\": \"2\"\n",
      "    }\n",
      "}\n",
      "{\"summary\":\"형진씨 시스템소프트웨어 할 때 math 라이브러리는 사용해도 되는것입니까?\\n되겠지 뭐 외부는 뭔가 더 이상한 라이브러리처럼 생겼을 거 같음 라이브러리는 표준 라이브러리와 외부 라이브러리로 구분할 수 있습니다.\"}\n"
     ]
    }
   ],
   "source": [
    "import sys\n",
    "import requests\n",
    "import json\n",
    "client_id = \" X-NCP-APIGW-API-KEY-ID\"\n",
    "client_secret = \" X-NCP-APIGW-API-KEY\"\n",
    "headers = {\n",
    "    \"X-NCP-APIGW-API-KEY-ID\": \"yukhq4rjut\",\n",
    "    \"X-NCP-APIGW-API-KEY\": \"WobdjgWwkOFR8Qs8hyeGAl9gyh4OG0Je33Ofq34x\",\n",
    "    \"Content-Type\": \"application/json\"\n",
    "}\n",
    "language = \"ko\" # Language of document (ko, ja )\n",
    "model = \"news\" # Model used for summaries (general, news)\n",
    "tone = \"2\" # Converts the tone of the summarized result. (0, 1, 2, 3)\n",
    "summaryCount = \"3\" # This is the number of sentences for the summarized document.\n",
    "url= \"https://naveropenapi.apigw.ntruss.com/text-summary/v1/summarize\" \n",
    "title= \"'\"\n",
    "content = conv.mergeConversation[-2][2]\n",
    "data = {\n",
    "    \"document\": {\n",
    "    \"title\": title,\n",
    "    \"content\" : content\n",
    "    },\n",
    "    \"option\": {\n",
    "    \"language\": language,\n",
    "    \"model\": model,\n",
    "    \"tone\": tone,\n",
    "    \"summaryCount\" : summaryCount\n",
    "    }\n",
    "}\n",
    "print(json.dumps(data, indent=4, sort_keys=True))\n",
    "response = requests.post(url, data=json.dumps(data), headers=headers)\n",
    "rescode = response.status_code\n",
    "if(rescode == 200):\n",
    "    print (response.text)\n",
    "else:\n",
    "    print(\"Error : \" + response.text)"
   ]
  },
  {
   "cell_type": "code",
   "execution_count": null,
   "id": "6914bf30-05fa-43bc-b984-9d6af784cf9e",
   "metadata": {},
   "outputs": [],
   "source": []
  },
  {
   "cell_type": "code",
   "execution_count": 3,
   "id": "9389ff24-a128-403a-a9c7-10a2334abc40",
   "metadata": {},
   "outputs": [],
   "source": [
    "g = \"\"\"최근에 면접 들어갔다가 나오면서 문득 아 이제 면접관으로 들어가는 것도 좀 익숙해진 것 같다 라는 느낌을 받았다. 그 김에 되짚어 보니, 팀에서 분석가를 뽑는 데 처음 참여하기 시작했던 게 딱 1년 전쯤이었다. 처음에는 서류/과제 검토하고 1차 면접(흔히 말하는 직군 면접 or 기술 면접) 위주로 들어갔었고, 지금은 팀 리더로 전체적인 프로세스에 관여를 하고 있다.\n",
    "\n",
    "1년 전의 나는 연차가 별로 안 많은 건 둘째치고, 인턴 했던 회사에 계속 다니면서 이직 경험도 없는 케이스기 때문에 면접관은커녕 지원자로서 면접 경험 자체도 매우 부족했다. 그래서 처음에는 제가..면접을 들어가라고요..? 제가 그럴 레벨인가요..? 하는 마음이었다.\n",
    "\n",
    "하지만 모든 것이 그렇듯이 역시 하다 보면 익숙해진다! 그리고 어쨌든 함께 일할 좋은 분을 모시는 것은 매우 중요한 일이므로 어떻게 하지..(패닉) 보다는 어떻게 (잘) 하지? 라는 생각을 하는 게 맞았다. 처음에는 다른 면접관 분들이 어떻게 진행하고 질문하시는지 미어캣처럼 열심히 보고 그랬다.\n",
    "\n",
    "아무튼 1년이 된 김에 그간 채용에 참여하면서 느낀 점들을 한번 간단히 정리해 보려고 한다. 요즘 업계 전반적으로 채용이 좀 침체된 것 같은데 그 와중에도 데이터 분석가를 뽑아야 하는 팀이나 지원자 입장에서 조금 도움이 되기를 바라며…? 물론 아래 적을 모든 내용은 나 개인의 경험에 기반한 것이므로 감안하고 보면 된다. 회고성 글에 가까우므로 평소 글과 달리 편한 말투로 적는다.\n",
    "\n",
    "들어가기 전에 약간의 배경설명: 나는 게임 데이터 기반의 솔루션(데이터 프로덕트)를 만드는 데이터 분석가로 이루어진 팀에서 일하고 있다. 상시 채용을 하고 있고, 일반적으로 서류 - 과제 - 2차례 면접의 프로세스로 진행한다. 우리 팀 분석가들 업무는 주로 지표와 모델 개발이고 어디 가서 하는 일을 설명하면 데이터 분석가보다는 데이터 사이언티스트 아닌가요? 라고 하지만, 개인적으로는 데이터 사이언티스트라는 말이 좀 애매하다고 생각하며 모델링보다는 문제 정의와 분석을 잘 할 줄 아는 분석가가 되고자 하고 그런 분석가와 같이 일하는 것을 선호한다.\n",
    "\n",
    "참여하는 팀 구성원들\n",
    "가능하다면 (팀이 충분히 크다면…) 여러 명의 분석가로 이루어진 미니 채용 팀을 꾸리는 게 좋다! 왜냐면\n",
    "각 팀원 입장에서는 채용도 하나의 업무이다.\n",
    "서류나 과제를 평가하는 데도 시간이 들어가며, 면접의 경우 1시간 본다 치면 앞서서 준비하는 시간+끝나고 논의하는 시간까지 2시간 이상이 소요된다. 수시채용의 경우 한참 서류가 많이 들어오지 않다가 어떤 때는 와르르 들어오기도 하는데 만약 굉장히 소수의 인원이 이걸 전담해서 본다고 한다면 굉장히 빡셀 것이다. 면접도 면접에 들어갈 수 있는 분석가 풀을 4~5명으로 두고 그때그때 가능한 사람이 나눠서 들어간다면 부담을 줄일 수 있다.\n",
    "여러 명의 의견은 대체로 도움이 된다.\n",
    "아무리 평가 기준의 컨센서스를 맞춰 놨다고 한들 정작 매 단계에서 각자의 의견은 조금씩 다르다. 같은 자질을 두고도 어떤 사람은 긍정적으로 보고 다른 사람은 단점이라고 생각할 수 있다.\n",
    "이걸 하나의 의견으로 수렴하는 게 힘들지 않나 라고 생각할 수도 있지만, 내가 생각하는 이 방식의 가장 좋은 점은 내가 편협하게 보아 놓칠 수 있던 지원자를 놓치지 않게 해준다는 것이다. 실제로 과제 기준 나는 탈락 의견이었던 지원자 분을 면접관 한 분이 좋게 보아 면접을 보았는데 면접에서는 나도 긍정적인 평가를 했던 적이 있다.\n",
    "어쨌든 같이 채용에 참여하는 팀원들끼리는 서로의 판단을 신뢰하고 있기 때문에, 내가 별로라고 생각했던 지원자도 다른 사람이 매우 긍정적으로 평가한다면 한 번 더 볼 의지가 있다.\n",
    "어떤 사람을 원하는지 확실히 하기 (근데 빨리 하기)\n",
    "좀 구린 비유를 하자면 소개팅을 주선한다고 치자. 어떤 사람이 좋냐고 물었을 때 그냥 뭐 다 괜찮아 라고 두루뭉술하게 대답하는 친구보다는 나는 키 xx 이상 나랑 비슷한 업계 다니는 사람 만나고 싶어 라고 말하는 친구가 더 시켜주기 쉽다. 그리고 실제로 만나서도 빠르게 아 내가 원한 건 이런 사람이 아냐 하고 그만 만날수록 양측이 편하다. 채용도 딱 그런 것 같다.\n",
    "어떤 사람을 원한다의 문제는 이 분이 실제로 팀에 들어 왔을 때 어떤 일을 하기를 원하는지와도 직결된다. 빠르게 실무에 적응해서 일손을 줄여줄 사람을 원할 수도 있고, 기존 인원들이 하지 못했던 새로운 방법으로 기존에 산재해 있던 문제를 해결해 줄 사람을 원할 수도 있다. 아니면 가장 간단하게 이미 있던 구성원이 나가서 그 사람이 하던 일을 대체해 줄 사람을 원할 수도 있다.\n",
    "물론 무슨 일을 맡겨도 다 잘하는 올라운더를 뽑고 싶어! 라고 할 수도 있지만 세상에 그런 지원자가 얼마나 있겠어요. 모든 사람은 강점과 약점이 있고 강점이 우리 팀 빈 자리에 맞아야 함.\n",
    "어떤 사람을 원하는지는 당연히 미리 공고 JD에도 일부 표현이 되어 있어야 하고 팀 내부에도 협의가 있어야 한다. 채용 전형이 뒤로 갈수록 점점 구체적으로 지원자가 그런 사람인지 검증하고, 사실 마지막에는 지원자에게도 우리가 원하는 것이 어느 정도 전달이 되어야 한다(채용 전형은 지원자도 우리를 평가하는 과정이기 때문에).\n",
    "아무리 훌륭한 지원자라 한들 지금 우리가 원하는 목적과 맞지 않으면 서로에게 시간낭비인데, 이걸 전형이 많이 진행되기 전에 빨리 깨달을수록 좋다.\n",
    "개인적으로 내가 어려웠던 것은 1) 우리 팀에서 필요한 사람이 딱 한 가지 유형이 아니고 2) 전형이 더 진행되기 전에 이 지원자가 어떤 유형인지를 명확히 파악하기가 어렵기 때문이다. 면접 보기 전에 면접관들이 모여서 제일 먼저 하는 말이 이 분 (만약 입사한다면 팀 내에서) 어떤 역할로 생각하세요? 인데 그것에 답하기가 항상 쉽지는 않다.\n",
    "서류와 과제\n",
    "최소한 서류나 과제에 한해서는 평가 기준을 세우고 결과를 정량화하는 게 도움이 된다. 우선 정량화할 기준을 세우기 위해서 팀원들이 모여서 논의를 하는 과정에서 앞서 말한 우리가 어떤 사람을 원하는지가 구체적으로 정립이 되어서 좋다. 정리가 되고 나서부터는 해당 기준에 따라서 평가를 하고 합불을 결정하는데, 체크리스트를 체크하는 수준이기 때문에 그냥 이 사람 이러저러해서 합격시키자 하고 의견을 내는 것에 비해 사실상 인지적인 자원도 훨씬 덜 들어간다.\n",
    "과제를 보는 이유는 과제를 통해 생각보다 정말 많은 것들을 알 수 있기 때문이다. 기본적으로 분석/코딩 역량이 되는지 스킬 수준의 능력부터 논리적인 전개나 문서 전달력까지 볼 수 있으므로 면접 때 기초적인 기술 역량을 검증하는 데 시간을 덜 쓸 수 있다.\n",
    "다만 어떤 과제(문제)가 좋은 과제이냐에 대해서는 아직까지도 고민이 많다. 다시 어떤 사람을 원하는지로 돌아가서, 팀별로 과제도 목적에 맞게 출제가 되어야 한다. 출제 시에 trade-off가 발생할 수 있는 부분은 과제 문제나 지시문이 구체적이고 명확할수록,\n",
    "(+) 지원자가 과제를 포기할 확률이 낮고 (잘 설계되었다면) 우리가 보고자 하는 걸 볼 수 있다.\n",
    "(-) 지원자 스스로 문제 정의를 하고 분석을 설계하는 능력을 보기는 어려울 수 있으며 모든 과제 결과물이 찍어낸 듯 천편일률적인 슬픈 상황을 맞닥뜨릴 수도 있다.\n",
    "면접\n",
    "모든 면접 전에는 면접관들이 모여서 이 지원자 분에게 어떤 내용이 궁금한지(어떤 질문들을 할지) 정리하고 들어간다. 하지만 그 전에도 이미 주로 물어보는 질문 리스트와 흐름이 정해져 있으면 좋다. 면접이야말로 상황과 지원자에 따라 변수가 많은 영역이고, 그냥 꼬리물기 질문으로 30분이 지나갈 때도 있지만.\n",
    "다음은 그냥 면접 보면서 내가 느낀 점과 고민들이다.\n",
    "기본적인 것은 어느 정도까지 물어봐야 하나?\n",
    "다른 거 물어볼 거 많은데 너무 많이 시간 쓰면 낭비 아닌가 싶지만 놀랍게도 가끔 이력서에 XX(진짜 기본 ML 지식이 있으면 아는 모델)를 사용해서 프로젝트를 했다고 썼는데 XX가 뭔지 설명해 달라고 하면 설명 못하시는 분이 있다.\n",
    "그리고 당연히 알 것 같은 개념이나 모델이라도, 질문을 함으로써 지원자 분의 설명하시는 능력을 볼 수 있다. 나는 이 개념을 제가 통계알못이라고 치고 저한테 설명해주세요 라는 질문도 종종 한다. 왜냐면 실제 우리의 고객은 대부분 통계알못이므로..\n",
    "긴장 풀어드리기\n",
    "내가 잘 못하는 영역으로 거의 한번도 적극적으로 해본 적은 없다. 약간이라도 웃음 포인트가 생길 때 최대한 웃어드리기가 끝…\n",
    "가끔 신입 면접인 경우 너무 긴장하시는 경우가 있는데, 같이 들어간 면접관 분들이 이걸 잘하시는 걸 보면 배워야지 한다. 지원자 분이 긴장해서 해야 할 말도 못하시고 충분히 능력을 표현하지 못하면 우리도 손해이다.\n",
    "면접의 목적이 뭘까\n",
    "서류와 과제를 통해 이미 내 머릿속에 어느 정도 파악된 지원자의 특성이 있고, 그 특성이 좋으니까 면접을 보기로 한 것이다. 이제 면접은 그걸 뒷받침하는 근거를 얻을 수 있는 자리이다. 면접관이 그 근거를 잘 파낼 수 있는 질문을 던지도록 노력하고 지원자가 앞선 전형과 일관성 있는 모습을 보여준다면 면접이 어느 정도 잘 흘러간다고 생각한다. 일관성 있는 모습이라면 예를 들어 이런 건데, 지원자가 서류에 나는 꾸준하게 새로운 걸 학습하는 사람이라고 적었다면 최근에 공부한 거 뭐 있어요? 소개해주세요 라는 질문에 뭐라도 답이 나와야 한다.\n",
    "커뮤니케이션\n",
    "오직 면접에서만 검증할 수 있는 능력이다. 우선 질문이 오고 갈 때 막히는 구석 없이 매끄럽게 흘러가는지가 중요한데(질문의 요지를 잘 파악하고 적절한 대답을 하는지), 당연히 모든 말을 아무 버벅거림 없이 서로 알아듣기란 어려울 것이다. 질문을 잘 못 알아들었다면 다시 한 번 말해달라고 하거나 내가 이렇게 이해한 게 맞는지 되묻는 것 아주 좋다. 업무를 할 때도 그렇게 해야 하기 때문이다(못 알아들었는데 대충 알아들은 척 답변하는 것 = 그렇게 일을 진행해버리면 보통 망함).\n",
    "그리고 이력서 상에 있는 내용에 대해 어떻게 진행했고 어떤 역할을 했는지 설명해달라고 했을 때 그 내용 자체만큼이나 어떤 방식으로 설명하는지를 보는 것도 중요하다. 너무너무 당연한 소리지만 우리 팀 아니라 세상의 어떤 회사에서도 분석가라고 분석만 하는 경우는 없기 때문이다. 분석한 내용을 설명해야 하고, 설명을 잘 해서 남들을 설득해야 하는데, 보통 그 남들에는 내가 개떡같이 말해도 찰떡같이 알아듣는 같은 분석가 동료만 있는 것이 아니고 나에겐 간단한 용어조차 익숙하지 않은 다른 직군의 사람이나 봐야 할 프로젝트가 오백 개라 내 작은 프로젝트에 쏟을 시간은 별로 없는 상위 리더 등이 포함되어 있으므로 사실 핵심적인 능력이라 할 수 있겠다.\n",
    "‘바람직한’ 답변\n",
    "흔히 말하는 social desirabilty가 엄청 높으신 분들이 있다. 물론 지원자라면 당연히 면접관이 원하는 대답을 하고 싶어 한다. 나라도 그럴 것 같다. 하지만 정말 분석가로서의 성향이나 선호, 커리어의 지향을 묻는, 답이 정해져 있지 않은 질문에서 모조리 그런 방향으로 대답하는 건 좋지 않다. 그걸로 그 분이 별로라고 생각한다는 게 아니라, 질문을 아무리 해도 알아낼 수 있는 게 별로 없어서 좋지 않다는 것이다.\n",
    "물론 쪼렙 면접관인 나의 스킬 탓일 수도 있다. 이 분에 대해서는 이걸 꼭 검증하고 싶다는 내용이 있을 때 그걸 안 들키고(?) 알아내기가 참 어렵다. 예를 들어 우리는 A를 하는 사람을 원하는데 상대방이 B 쪽에 흥미가 있고 강점이 있는 사람인 것 같아서 조금 걸린다고 치면, 최악은 이런 질문인 것 같다. B 쪽을 주로 해오셨고 재밌다고 하셨는데 뭐 다른 것들도 있잖아요, A 도 있고… 어떤 게 더 중요하다고 생각하세요? 그러면 조금이라도 눈치가 있는 사람은 바로 A 좋죠 라는 식으로 방향을 틀어버리고 어디까지가 그 분의 진짜 생각인지를 알 수가 없다. 지원자가 (B는 알겠고) A도 잘 할 줄 아는 사람일지 궁금해! 라는 내 목적을 전혀 달성할 수 없는 것이다.\n",
    "마지막 질문 타임\n",
    "당연히 모든 면접 끝에는 지원자 분에게 면접관들에게 궁금한 걸 물어봐 달라고 한다. 이 시간은 지원자 입장에서 회사와 팀에 대해 궁금한 걸 알아갈 수 있을 뿐더러 본인의 관심이나 능력까지도 어필할 수 있는 시간이라고 생각한다.\n",
    "일단 질문을 하나 정도 의례적으로 하시고 더 궁금한 게 없다고 하시면 확실히 좀 아쉽다. 아니 데이트를 해도 나만 상대방한테 계속 물어보면 얜 나한테 관심이 없구나 이건 글렀구나 하지 않겠나. 이럴 땐 사실 진짜 궁금한 거 더 없으세요? 해도 될 법하지만, 이 단계에 와서 면접 결과까지 뒤집히기는 어렵기 때문에 여러 이유로 굳이 그렇게는 안 하는 듯.\n",
    "질문의 내용이라고 치면 가장 기본적인 게 입사해서 할 일이 어떤 일이고 어떤 환경(팀 구성, 데이터나 인프라, 업무 체계나 방식 등)일지가 있는데, 이런 질문을 신입일수록 많이 안 하신다. 당연히 궁금할 내용인데 왜 안 하시는지 의문이다.\n",
    "그 외에도 우리 도메인에 대한 나름의 생각이나 고민을 하시고 그것에 대해 우리 의견을 물어보는 분들이 종종 계신데 그 자체로 1) 그만큼 진짜 이 일에 관심이 있다 2) 이 정도까지 고민할 수 있는 사람이다를 보여주는 것이라서 좋게 보인다.\n",
    "이 시간에 면접 자체나 지원자로서 본인에 대한 피드백을 달라고 하는 건 뭐 할 만한 질문이라고 생각하지만, 개인적으로 앞으로 분석가가 되기 위해 어떤 걸 공부하고 준비하면 좋겠는지를 물어보는 건 상황에 적절한 질문인지는 잘 모르겠다. 물론 물어보시면 답은 해 드린다.\n",
    "\"\"\""
   ]
  },
  {
   "cell_type": "code",
   "execution_count": 4,
   "id": "5580d75b-2f23-4050-9a30-8285db3da9db",
   "metadata": {
    "scrolled": true
   },
   "outputs": [
    {
     "name": "stdout",
     "output_type": "stream",
     "text": [
      "{\n",
      "    \"document\": {\n",
      "        \"content\": \"\\ucd5c\\uadfc\\uc5d0 \\uba74\\uc811 \\ub4e4\\uc5b4\\uac14\\ub2e4\\uac00 \\ub098\\uc624\\uba74\\uc11c \\ubb38\\ub4dd \\uc544 \\uc774\\uc81c \\uba74\\uc811\\uad00\\uc73c\\ub85c \\ub4e4\\uc5b4\\uac00\\ub294 \\uac83\\ub3c4 \\uc880 \\uc775\\uc219\\ud574\\uc9c4 \\uac83 \\uac19\\ub2e4 \\ub77c\\ub294 \\ub290\\ub08c\\uc744 \\ubc1b\\uc558\\ub2e4. \\uadf8 \\uae40\\uc5d0 \\ub418\\uc9da\\uc5b4 \\ubcf4\\ub2c8, \\ud300\\uc5d0\\uc11c \\ubd84\\uc11d\\uac00\\ub97c \\ubf51\\ub294 \\ub370 \\ucc98\\uc74c \\ucc38\\uc5ec\\ud558\\uae30 \\uc2dc\\uc791\\ud588\\ub358 \\uac8c \\ub531 1\\ub144 \\uc804\\ucbe4\\uc774\\uc5c8\\ub2e4. \\ucc98\\uc74c\\uc5d0\\ub294 \\uc11c\\ub958/\\uacfc\\uc81c \\uac80\\ud1a0\\ud558\\uace0 1\\ucc28 \\uba74\\uc811(\\ud754\\ud788 \\ub9d0\\ud558\\ub294 \\uc9c1\\uad70 \\uba74\\uc811 or \\uae30\\uc220 \\uba74\\uc811) \\uc704\\uc8fc\\ub85c \\ub4e4\\uc5b4\\uac14\\uc5c8\\uace0, \\uc9c0\\uae08\\uc740 \\ud300 \\ub9ac\\ub354\\ub85c \\uc804\\uccb4\\uc801\\uc778 \\ud504\\ub85c\\uc138\\uc2a4\\uc5d0 \\uad00\\uc5ec\\ub97c \\ud558\\uace0 \\uc788\\ub2e4.\\n\\n1\\ub144 \\uc804\\uc758 \\ub098\\ub294 \\uc5f0\\ucc28\\uac00 \\ubcc4\\ub85c \\uc548 \\ub9ce\\uc740 \\uac74 \\ub458\\uc9f8\\uce58\\uace0, \\uc778\\ud134 \\ud588\\ub358 \\ud68c\\uc0ac\\uc5d0 \\uacc4\\uc18d \\ub2e4\\ub2c8\\uba74\\uc11c \\uc774\\uc9c1 \\uacbd\\ud5d8\\ub3c4 \\uc5c6\\ub294 \\ucf00\\uc774\\uc2a4\\uae30 \\ub54c\\ubb38\\uc5d0 \\uba74\\uc811\\uad00\\uc740\\ucee4\\ub155 \\uc9c0\\uc6d0\\uc790\\ub85c\\uc11c \\uba74\\uc811 \\uacbd\\ud5d8 \\uc790\\uccb4\\ub3c4 \\ub9e4\\uc6b0 \\ubd80\\uc871\\ud588\\ub2e4. \\uadf8\\ub798\\uc11c \\ucc98\\uc74c\\uc5d0\\ub294 \\uc81c\\uac00..\\uba74\\uc811\\uc744 \\ub4e4\\uc5b4\\uac00\\ub77c\\uace0\\uc694..? \\uc81c\\uac00 \\uadf8\\ub7f4 \\ub808\\ubca8\\uc778\\uac00\\uc694..? \\ud558\\ub294 \\ub9c8\\uc74c\\uc774\\uc5c8\\ub2e4.\\n\\n\\ud558\\uc9c0\\ub9cc \\ubaa8\\ub4e0 \\uac83\\uc774 \\uadf8\\ub807\\ub4ef\\uc774 \\uc5ed\\uc2dc \\ud558\\ub2e4 \\ubcf4\\uba74 \\uc775\\uc219\\ud574\\uc9c4\\ub2e4! \\uadf8\\ub9ac\\uace0 \\uc5b4\\uca0c\\ub4e0 \\ud568\\uaed8 \\uc77c\\ud560 \\uc88b\\uc740 \\ubd84\\uc744 \\ubaa8\\uc2dc\\ub294 \\uac83\\uc740 \\ub9e4\\uc6b0 \\uc911\\uc694\\ud55c \\uc77c\\uc774\\ubbc0\\ub85c \\uc5b4\\ub5bb\\uac8c \\ud558\\uc9c0..(\\ud328\\ub2c9) \\ubcf4\\ub2e4\\ub294 \\uc5b4\\ub5bb\\uac8c (\\uc798) \\ud558\\uc9c0? \\ub77c\\ub294 \\uc0dd\\uac01\\uc744 \\ud558\\ub294 \\uac8c \\ub9de\\uc558\\ub2e4. \\ucc98\\uc74c\\uc5d0\\ub294 \\ub2e4\\ub978 \\uba74\\uc811\\uad00 \\ubd84\\ub4e4\\uc774 \\uc5b4\\ub5bb\\uac8c \\uc9c4\\ud589\\ud558\\uace0 \\uc9c8\\ubb38\\ud558\\uc2dc\\ub294\\uc9c0 \\ubbf8\\uc5b4\\ucea3\\ucc98\\ub7fc \\uc5f4\\uc2ec\\ud788 \\ubcf4\\uace0 \\uadf8\\ub7ac\\ub2e4.\\n\\n\\uc544\\ubb34\\ud2bc 1\\ub144\\uc774 \\ub41c \\uae40\\uc5d0 \\uadf8\\uac04 \\ucc44\\uc6a9\\uc5d0 \\ucc38\\uc5ec\\ud558\\uba74\\uc11c \\ub290\\ub080 \\uc810\\ub4e4\\uc744 \\ud55c\\ubc88 \\uac04\\ub2e8\\ud788 \\uc815\\ub9ac\\ud574 \\ubcf4\\ub824\\uace0 \\ud55c\\ub2e4. \\uc694\\uc998 \\uc5c5\\uacc4 \\uc804\\ubc18\\uc801\\uc73c\\ub85c \\ucc44\\uc6a9\\uc774 \\uc880 \\uce68\\uccb4\\ub41c \\uac83 \\uac19\\uc740\\ub370 \\uadf8 \\uc640\\uc911\\uc5d0\\ub3c4 \\ub370\\uc774\\ud130 \\ubd84\\uc11d\\uac00\\ub97c \\ubf51\\uc544\\uc57c \\ud558\\ub294 \\ud300\\uc774\\ub098 \\uc9c0\\uc6d0\\uc790 \\uc785\\uc7a5\\uc5d0\\uc11c \\uc870\\uae08 \\ub3c4\\uc6c0\\uc774 \\ub418\\uae30\\ub97c \\ubc14\\ub77c\\uba70\\u2026? \\ubb3c\\ub860 \\uc544\\ub798 \\uc801\\uc744 \\ubaa8\\ub4e0 \\ub0b4\\uc6a9\\uc740 \\ub098 \\uac1c\\uc778\\uc758 \\uacbd\\ud5d8\\uc5d0 \\uae30\\ubc18\\ud55c \\uac83\\uc774\\ubbc0\\ub85c \\uac10\\uc548\\ud558\\uace0 \\ubcf4\\uba74 \\ub41c\\ub2e4. \\ud68c\\uace0\\uc131 \\uae00\\uc5d0 \\uac00\\uae4c\\uc6b0\\ubbc0\\ub85c \\ud3c9\\uc18c \\uae00\\uacfc \\ub2ec\\ub9ac \\ud3b8\\ud55c \\ub9d0\\ud22c\\ub85c \\uc801\\ub294\\ub2e4.\\n\\n\\ub4e4\\uc5b4\\uac00\\uae30 \\uc804\\uc5d0 \\uc57d\\uac04\\uc758 \\ubc30\\uacbd\\uc124\\uba85: \\ub098\\ub294 \\uac8c\\uc784 \\ub370\\uc774\\ud130 \\uae30\\ubc18\\uc758 \\uc194\\ub8e8\\uc158(\\ub370\\uc774\\ud130 \\ud504\\ub85c\\ub355\\ud2b8)\\ub97c \\ub9cc\\ub4dc\\ub294 \\ub370\\uc774\\ud130 \\ubd84\\uc11d\\uac00\\ub85c \\uc774\\ub8e8\\uc5b4\\uc9c4 \\ud300\\uc5d0\\uc11c \\uc77c\\ud558\\uace0 \\uc788\\ub2e4. \\uc0c1\\uc2dc \\ucc44\\uc6a9\\uc744 \\ud558\\uace0 \\uc788\\uace0, \\uc77c\\ubc18\\uc801\\uc73c\\ub85c \\uc11c\\ub958 - \\uacfc\\uc81c - 2\\ucc28\\ub840 \\uba74\\uc811\\uc758 \\ud504\\ub85c\\uc138\\uc2a4\\ub85c \\uc9c4\\ud589\\ud55c\\ub2e4. \\uc6b0\\ub9ac \\ud300 \\ubd84\\uc11d\\uac00\\ub4e4 \\uc5c5\\ubb34\\ub294 \\uc8fc\\ub85c \\uc9c0\\ud45c\\uc640 \\ubaa8\\ub378 \\uac1c\\ubc1c\\uc774\\uace0 \\uc5b4\\ub514 \\uac00\\uc11c \\ud558\\ub294 \\uc77c\\uc744 \\uc124\\uba85\\ud558\\uba74 \\ub370\\uc774\\ud130 \\ubd84\\uc11d\\uac00\\ubcf4\\ub2e4\\ub294 \\ub370\\uc774\\ud130 \\uc0ac\\uc774\\uc5b8\\ud2f0\\uc2a4\\ud2b8 \\uc544\\ub2cc\\uac00\\uc694? \\ub77c\\uace0 \\ud558\\uc9c0\\ub9cc, \\uac1c\\uc778\\uc801\\uc73c\\ub85c\\ub294 \\ub370\\uc774\\ud130 \\uc0ac\\uc774\\uc5b8\\ud2f0\\uc2a4\\ud2b8\\ub77c\\ub294 \\ub9d0\\uc774 \\uc880 \\uc560\\ub9e4\\ud558\\ub2e4\\uace0 \\uc0dd\\uac01\\ud558\\uba70 \\ubaa8\\ub378\\ub9c1\\ubcf4\\ub2e4\\ub294 \\ubb38\\uc81c \\uc815\\uc758\\uc640 \\ubd84\\uc11d\\uc744 \\uc798 \\ud560 \\uc904 \\uc544\\ub294 \\ubd84\\uc11d\\uac00\\uac00 \\ub418\\uace0\\uc790 \\ud558\\uace0 \\uadf8\\ub7f0 \\ubd84\\uc11d\\uac00\\uc640 \\uac19\\uc774 \\uc77c\\ud558\\ub294 \\uac83\\uc744 \\uc120\\ud638\\ud55c\\ub2e4.\\n\\n\\ucc38\\uc5ec\\ud558\\ub294 \\ud300 \\uad6c\\uc131\\uc6d0\\ub4e4\\n\\uac00\\ub2a5\\ud558\\ub2e4\\uba74 (\\ud300\\uc774 \\ucda9\\ubd84\\ud788 \\ud06c\\ub2e4\\uba74\\u2026) \\uc5ec\\ub7ec \\uba85\\uc758 \\ubd84\\uc11d\\uac00\\ub85c \\uc774\\ub8e8\\uc5b4\\uc9c4 \\ubbf8\\ub2c8 \\ucc44\\uc6a9 \\ud300\\uc744 \\uafb8\\ub9ac\\ub294 \\uac8c \\uc88b\\ub2e4! \\uc65c\\ub0d0\\uba74\\n\\uac01 \\ud300\\uc6d0 \\uc785\\uc7a5\\uc5d0\\uc11c\\ub294 \\ucc44\\uc6a9\\ub3c4 \\ud558\\ub098\\uc758 \\uc5c5\\ubb34\\uc774\\ub2e4.\\n\\uc11c\\ub958\\ub098 \\uacfc\\uc81c\\ub97c \\ud3c9\\uac00\\ud558\\ub294 \\ub370\\ub3c4 \\uc2dc\\uac04\\uc774 \\ub4e4\\uc5b4\\uac00\\uba70, \\uba74\\uc811\\uc758 \\uacbd\\uc6b0 1\\uc2dc\\uac04 \\ubcf8\\ub2e4 \\uce58\\uba74 \\uc55e\\uc11c\\uc11c \\uc900\\ube44\\ud558\\ub294 \\uc2dc\\uac04+\\ub05d\\ub098\\uace0 \\ub17c\\uc758\\ud558\\ub294 \\uc2dc\\uac04\\uae4c\\uc9c0 2\\uc2dc\\uac04 \\uc774\\uc0c1\\uc774 \\uc18c\\uc694\\ub41c\\ub2e4. \\uc218\\uc2dc\\ucc44\\uc6a9\\uc758 \\uacbd\\uc6b0 \\ud55c\\ucc38 \\uc11c\\ub958\\uac00 \\ub9ce\\uc774 \\ub4e4\\uc5b4\\uc624\\uc9c0 \\uc54a\\ub2e4\\uac00 \\uc5b4\\ub5a4 \\ub54c\\ub294 \\uc640\\ub974\\ub974 \\ub4e4\\uc5b4\\uc624\\uae30\\ub3c4 \\ud558\\ub294\\ub370 \\ub9cc\\uc57d \\uad49\\uc7a5\\ud788 \\uc18c\\uc218\\uc758 \\uc778\\uc6d0\\uc774 \\uc774\\uac78 \\uc804\\ub2f4\\ud574\\uc11c \\ubcf8\\ub2e4\\uace0 \\ud55c\\ub2e4\\uba74 \\uad49\\uc7a5\\ud788 \\ube61\\uc140 \\uac83\\uc774\\ub2e4. \\uba74\\uc811\\ub3c4 \\uba74\\uc811\\uc5d0 \\ub4e4\\uc5b4\\uac08 \\uc218 \\uc788\\ub294 \\ubd84\\uc11d\\uac00 \\ud480\\uc744 4~5\\uba85\\uc73c\\ub85c \\ub450\\uace0 \\uadf8\\ub54c\\uadf8\\ub54c \\uac00\\ub2a5\\ud55c \\uc0ac\\ub78c\\uc774 \\ub098\\ub220\\uc11c \\ub4e4\\uc5b4\\uac04\\ub2e4\\uba74 \\ubd80\\ub2f4\\uc744 \\uc904\\uc77c \\uc218 \\uc788\\ub2e4.\\n\\uc5ec\\ub7ec \\uba85\\uc758 \\uc758\\uacac\\uc740 \\ub300\\uccb4\\ub85c \\ub3c4\\uc6c0\\uc774 \\ub41c\\ub2e4.\\n\\uc544\\ubb34\\ub9ac \\ud3c9\\uac00 \\uae30\\uc900\\uc758 \\ucee8\\uc13c\\uc11c\\uc2a4\\ub97c \\ub9de\\ucdb0 \\ub1a8\\ub2e4\\uace0 \\ud55c\\ub4e4 \\uc815\\uc791 \\ub9e4 \\ub2e8\\uacc4\\uc5d0\\uc11c \\uac01\\uc790\\uc758 \\uc758\\uacac\\uc740 \\uc870\\uae08\\uc529 \\ub2e4\\ub974\\ub2e4. \\uac19\\uc740 \\uc790\\uc9c8\\uc744 \\ub450\\uace0\\ub3c4 \\uc5b4\\ub5a4 \\uc0ac\\ub78c\\uc740 \\uae0d\\uc815\\uc801\\uc73c\\ub85c \\ubcf4\\uace0 \\ub2e4\\ub978 \\uc0ac\\ub78c\\uc740 \\ub2e8\\uc810\\uc774\\ub77c\\uace0 \\uc0dd\\uac01\\ud560 \\uc218 \\uc788\\ub2e4.\\n\\uc774\\uac78 \\ud558\\ub098\\uc758 \\uc758\\uacac\\uc73c\\ub85c \\uc218\\ub834\\ud558\\ub294 \\uac8c \\ud798\\ub4e4\\uc9c0 \\uc54a\\ub098 \\ub77c\\uace0 \\uc0dd\\uac01\\ud560 \\uc218\\ub3c4 \\uc788\\uc9c0\\ub9cc, \\ub0b4\\uac00 \\uc0dd\\uac01\\ud558\\ub294 \\uc774 \\ubc29\\uc2dd\\uc758 \\uac00\\uc7a5 \\uc88b\\uc740 \\uc810\\uc740 \\ub0b4\\uac00 \\ud3b8\\ud611\\ud558\\uac8c \\ubcf4\\uc544 \\ub193\\uce60 \\uc218 \\uc788\\ub358 \\uc9c0\\uc6d0\\uc790\\ub97c \\ub193\\uce58\\uc9c0 \\uc54a\\uac8c \\ud574\\uc900\\ub2e4\\ub294 \\uac83\\uc774\\ub2e4. \\uc2e4\\uc81c\\ub85c \\uacfc\\uc81c \\uae30\\uc900 \\ub098\\ub294 \\ud0c8\\ub77d \\uc758\\uacac\\uc774\\uc5c8\\ub358 \\uc9c0\\uc6d0\\uc790 \\ubd84\\uc744 \\uba74\\uc811\\uad00 \\ud55c \\ubd84\\uc774 \\uc88b\\uac8c \\ubcf4\\uc544 \\uba74\\uc811\\uc744 \\ubcf4\\uc558\\ub294\\ub370 \\uba74\\uc811\\uc5d0\\uc11c\\ub294 \\ub098\\ub3c4 \\uae0d\\uc815\\uc801\\uc778 \\ud3c9\\uac00\\ub97c \\ud588\\ub358 \\uc801\\uc774 \\uc788\\ub2e4.\\n\\uc5b4\\uca0c\\ub4e0 \\uac19\\uc774 \\ucc44\\uc6a9\\uc5d0 \\ucc38\\uc5ec\\ud558\\ub294 \\ud300\\uc6d0\\ub4e4\\ub07c\\ub9ac\\ub294 \\uc11c\\ub85c\\uc758 \\ud310\\ub2e8\\uc744 \\uc2e0\\ub8b0\\ud558\\uace0 \\uc788\\uae30 \\ub54c\\ubb38\\uc5d0, \\ub0b4\\uac00 \\ubcc4\\ub85c\\ub77c\\uace0 \\uc0dd\\uac01\\ud588\\ub358 \\uc9c0\\uc6d0\\uc790\\ub3c4 \\ub2e4\\ub978 \\uc0ac\\ub78c\\uc774 \\ub9e4\\uc6b0 \\uae0d\\uc815\\uc801\\uc73c\\ub85c \\ud3c9\\uac00\\ud55c\\ub2e4\\uba74 \\ud55c \\ubc88 \\ub354 \\ubcfc \\uc758\\uc9c0\\uac00 \\uc788\\ub2e4.\\n\\uc5b4\\ub5a4 \\uc0ac\\ub78c\\uc744 \\uc6d0\\ud558\\ub294\\uc9c0 \\ud655\\uc2e4\\ud788 \\ud558\\uae30 (\\uadfc\\ub370 \\ube68\\ub9ac \\ud558\\uae30)\\n\\uc880 \\uad6c\\ub9b0 \\ube44\\uc720\\ub97c \\ud558\\uc790\\uba74 \\uc18c\\uac1c\\ud305\\uc744 \\uc8fc\\uc120\\ud55c\\ub2e4\\uace0 \\uce58\\uc790. \\uc5b4\\ub5a4 \\uc0ac\\ub78c\\uc774 \\uc88b\\ub0d0\\uace0 \\ubb3c\\uc5c8\\uc744 \\ub54c \\uadf8\\ub0e5 \\ubb50 \\ub2e4 \\uad1c\\ucc2e\\uc544 \\ub77c\\uace0 \\ub450\\ub8e8\\ubb49\\uc220\\ud558\\uac8c \\ub300\\ub2f5\\ud558\\ub294 \\uce5c\\uad6c\\ubcf4\\ub2e4\\ub294 \\ub098\\ub294 \\ud0a4 xx \\uc774\\uc0c1 \\ub098\\ub791 \\ube44\\uc2b7\\ud55c \\uc5c5\\uacc4 \\ub2e4\\ub2c8\\ub294 \\uc0ac\\ub78c \\ub9cc\\ub098\\uace0 \\uc2f6\\uc5b4 \\ub77c\\uace0 \\ub9d0\\ud558\\ub294 \\uce5c\\uad6c\\uac00 \\ub354 \\uc2dc\\ucf1c\\uc8fc\\uae30 \\uc27d\\ub2e4. \\uadf8\\ub9ac\\uace0 \\uc2e4\\uc81c\\ub85c \\ub9cc\\ub098\\uc11c\\ub3c4 \\ube60\\ub974\\uac8c \\uc544 \\ub0b4\\uac00 \\uc6d0\\ud55c \\uac74 \\uc774\\ub7f0 \\uc0ac\\ub78c\\uc774 \\uc544\\ub0d0 \\ud558\\uace0 \\uadf8\\ub9cc \\ub9cc\\ub0a0\\uc218\\ub85d \\uc591\\uce21\\uc774 \\ud3b8\\ud558\\ub2e4. \\ucc44\\uc6a9\\ub3c4 \\ub531 \\uadf8\\ub7f0 \\uac83 \\uac19\\ub2e4.\\n\\uc5b4\\ub5a4 \\uc0ac\\ub78c\\uc744 \\uc6d0\\ud55c\\ub2e4\\uc758 \\ubb38\\uc81c\\ub294 \\uc774 \\ubd84\\uc774 \\uc2e4\\uc81c\\ub85c \\ud300\\uc5d0 \\ub4e4\\uc5b4 \\uc654\\uc744 \\ub54c \\uc5b4\\ub5a4 \\uc77c\\uc744 \\ud558\\uae30\\ub97c \\uc6d0\\ud558\\ub294\\uc9c0\\uc640\\ub3c4 \\uc9c1\\uacb0\\ub41c\\ub2e4. \\ube60\\ub974\\uac8c \\uc2e4\\ubb34\\uc5d0 \\uc801\\uc751\\ud574\\uc11c \\uc77c\\uc190\\uc744 \\uc904\\uc5ec\\uc904 \\uc0ac\\ub78c\\uc744 \\uc6d0\\ud560 \\uc218\\ub3c4 \\uc788\\uace0, \\uae30\\uc874 \\uc778\\uc6d0\\ub4e4\\uc774 \\ud558\\uc9c0 \\ubabb\\ud588\\ub358 \\uc0c8\\ub85c\\uc6b4 \\ubc29\\ubc95\\uc73c\\ub85c \\uae30\\uc874\\uc5d0 \\uc0b0\\uc7ac\\ud574 \\uc788\\ub358 \\ubb38\\uc81c\\ub97c \\ud574\\uacb0\\ud574 \\uc904 \\uc0ac\\ub78c\\uc744 \\uc6d0\\ud560 \\uc218\\ub3c4 \\uc788\\ub2e4. \\uc544\\ub2c8\\uba74 \\uac00\\uc7a5 \\uac04\\ub2e8\\ud558\\uac8c \\uc774\\ubbf8 \\uc788\\ub358 \\uad6c\\uc131\\uc6d0\\uc774 \\ub098\\uac00\\uc11c \\uadf8 \\uc0ac\\ub78c\\uc774 \\ud558\\ub358 \\uc77c\\uc744 \\ub300\\uccb4\\ud574 \\uc904 \\uc0ac\\ub78c\\uc744 \\uc6d0\\ud560 \\uc218\\ub3c4 \\uc788\\ub2e4.\\n\\ubb3c\\ub860 \\ubb34\\uc2a8 \\uc77c\\uc744 \\ub9e1\\uaca8\\ub3c4 \\ub2e4 \\uc798\\ud558\\ub294 \\uc62c\\ub77c\\uc6b4\\ub354\\ub97c \\ubf51\\uace0 \\uc2f6\\uc5b4! \\ub77c\\uace0 \\ud560 \\uc218\\ub3c4 \\uc788\\uc9c0\\ub9cc \\uc138\\uc0c1\\uc5d0 \\uadf8\\ub7f0 \\uc9c0\\uc6d0\\uc790\\uac00 \\uc5bc\\ub9c8\\ub098 \\uc788\\uaca0\\uc5b4\\uc694. \\ubaa8\\ub4e0 \\uc0ac\\ub78c\\uc740 \\uac15\\uc810\\uacfc \\uc57d\\uc810\\uc774 \\uc788\\uace0 \\uac15\\uc810\\uc774 \\uc6b0\\ub9ac \\ud300 \\ube48 \\uc790\\ub9ac\\uc5d0 \\ub9de\\uc544\\uc57c \\ud568.\\n\\uc5b4\\ub5a4 \\uc0ac\\ub78c\\uc744 \\uc6d0\\ud558\\ub294\\uc9c0\\ub294 \\ub2f9\\uc5f0\\ud788 \\ubbf8\\ub9ac \\uacf5\\uace0 JD\\uc5d0\\ub3c4 \\uc77c\\ubd80 \\ud45c\\ud604\\uc774 \\ub418\\uc5b4 \\uc788\\uc5b4\\uc57c \\ud558\\uace0 \\ud300 \\ub0b4\\ubd80\\uc5d0\\ub3c4 \\ud611\\uc758\\uac00 \\uc788\\uc5b4\\uc57c \\ud55c\\ub2e4. \\ucc44\\uc6a9 \\uc804\\ud615\\uc774 \\ub4a4\\ub85c \\uac08\\uc218\\ub85d \\uc810\\uc810 \\uad6c\\uccb4\\uc801\\uc73c\\ub85c \\uc9c0\\uc6d0\\uc790\\uac00 \\uadf8\\ub7f0 \\uc0ac\\ub78c\\uc778\\uc9c0 \\uac80\\uc99d\\ud558\\uace0, \\uc0ac\\uc2e4 \\ub9c8\\uc9c0\\ub9c9\\uc5d0\\ub294 \\uc9c0\\uc6d0\\uc790\\uc5d0\\uac8c\\ub3c4 \\uc6b0\\ub9ac\\uac00 \\uc6d0\\ud558\\ub294 \\uac83\\uc774 \\uc5b4\\ub290 \\uc815\\ub3c4 \\uc804\\ub2ec\\uc774 \\ub418\\uc5b4\\uc57c \\ud55c\\ub2e4(\\ucc44\\uc6a9 \\uc804\\ud615\\uc740 \\uc9c0\\uc6d0\\uc790\\ub3c4 \\uc6b0\\ub9ac\\ub97c \\ud3c9\\uac00\\ud558\\ub294 \\uacfc\\uc815\\uc774\\uae30 \\ub54c\\ubb38\\uc5d0).\\n\\uc544\\ubb34\\ub9ac \\ud6cc\\ub96d\\ud55c \\uc9c0\\uc6d0\\uc790\\ub77c \\ud55c\\ub4e4 \\uc9c0\\uae08 \\uc6b0\\ub9ac\\uac00 \\uc6d0\\ud558\\ub294 \\ubaa9\\uc801\\uacfc \\ub9de\\uc9c0 \\uc54a\\uc73c\\uba74 \\uc11c\\ub85c\\uc5d0\\uac8c \\uc2dc\\uac04\\ub0ad\\ube44\\uc778\\ub370, \\uc774\\uac78 \\uc804\\ud615\\uc774 \\ub9ce\\uc774 \\uc9c4\\ud589\\ub418\\uae30 \\uc804\\uc5d0 \\ube68\\ub9ac \\uae68\\ub2ec\\uc744\\uc218\\ub85d \\uc88b\\ub2e4.\\n\\uac1c\\uc778\\uc801\\uc73c\\ub85c \\ub0b4\\uac00 \\uc5b4\\ub824\\uc6e0\\ub358 \\uac83\\uc740 1) \\uc6b0\\ub9ac \\ud300\\uc5d0\\uc11c \\ud544\\uc694\\ud55c \\uc0ac\\ub78c\\uc774 \\ub531 \\ud55c \\uac00\\uc9c0 \\uc720\\ud615\\uc774 \\uc544\\ub2c8\\uace0 2) \\uc804\\ud615\\uc774 \\ub354 \\uc9c4\\ud589\\ub418\\uae30 \\uc804\\uc5d0 \\uc774 \\uc9c0\\uc6d0\\uc790\\uac00 \\uc5b4\\ub5a4 \\uc720\\ud615\\uc778\\uc9c0\\ub97c \\uba85\\ud655\\ud788 \\ud30c\\uc545\\ud558\\uae30\\uac00 \\uc5b4\\ub835\\uae30 \\ub54c\\ubb38\\uc774\\ub2e4. \\uba74\\uc811 \\ubcf4\\uae30 \\uc804\\uc5d0 \\uba74\\uc811\\uad00\\ub4e4\\uc774 \\ubaa8\\uc5ec\\uc11c \\uc81c\\uc77c \\uba3c\\uc800 \\ud558\\ub294 \\ub9d0\\uc774 \\uc774 \\ubd84 (\\ub9cc\\uc57d \\uc785\\uc0ac\\ud55c\\ub2e4\\uba74 \\ud300 \\ub0b4\\uc5d0\\uc11c) \\uc5b4\\ub5a4 \\uc5ed\\ud560\\ub85c \\uc0dd\\uac01\\ud558\\uc138\\uc694? \\uc778\\ub370 \\uadf8\\uac83\\uc5d0 \\ub2f5\\ud558\\uae30\\uac00 \\ud56d\\uc0c1 \\uc27d\\uc9c0\\ub294 \\uc54a\\ub2e4.\\n\\uc11c\\ub958\\uc640 \\uacfc\\uc81c\\n\\ucd5c\\uc18c\\ud55c \\uc11c\\ub958\\ub098 \\uacfc\\uc81c\\uc5d0 \\ud55c\\ud574\\uc11c\\ub294 \\ud3c9\\uac00 \\uae30\\uc900\\uc744 \\uc138\\uc6b0\\uace0 \\uacb0\\uacfc\\ub97c \\uc815\\ub7c9\\ud654\\ud558\\ub294 \\uac8c \\ub3c4\\uc6c0\\uc774 \\ub41c\\ub2e4. \\uc6b0\\uc120 \\uc815\\ub7c9\\ud654\\ud560 \\uae30\\uc900\\uc744 \\uc138\\uc6b0\\uae30 \\uc704\\ud574\\uc11c \\ud300\\uc6d0\\ub4e4\\uc774 \\ubaa8\\uc5ec\\uc11c \\ub17c\\uc758\\ub97c \\ud558\\ub294 \\uacfc\\uc815\\uc5d0\\uc11c \\uc55e\\uc11c \\ub9d0\\ud55c \\uc6b0\\ub9ac\\uac00 \\uc5b4\\ub5a4 \\uc0ac\\ub78c\\uc744 \\uc6d0\\ud558\\ub294\\uc9c0\\uac00 \\uad6c\\uccb4\\uc801\\uc73c\\ub85c \\uc815\\ub9bd\\uc774 \\ub418\\uc5b4\\uc11c \\uc88b\\ub2e4. \\uc815\\ub9ac\\uac00 \\ub418\\uace0 \\ub098\\uc11c\\ubd80\\ud130\\ub294 \\ud574\\ub2f9 \\uae30\\uc900\\uc5d0 \\ub530\\ub77c\\uc11c \\ud3c9\\uac00\\ub97c \\ud558\\uace0 \\ud569\\ubd88\\uc744 \\uacb0\\uc815\\ud558\\ub294\\ub370, \\uccb4\\ud06c\\ub9ac\\uc2a4\\ud2b8\\ub97c \\uccb4\\ud06c\\ud558\\ub294 \\uc218\\uc900\\uc774\\uae30 \\ub54c\\ubb38\\uc5d0 \\uadf8\\ub0e5 \\uc774 \\uc0ac\\ub78c \\uc774\\ub7ec\\uc800\\ub7ec\\ud574\\uc11c \\ud569\\uaca9\\uc2dc\\ud0a4\\uc790 \\ud558\\uace0 \\uc758\\uacac\\uc744 \\ub0b4\\ub294 \\uac83\\uc5d0 \\ube44\\ud574 \\uc0ac\\uc2e4\\uc0c1 \\uc778\\uc9c0\\uc801\\uc778 \\uc790\\uc6d0\\ub3c4 \\ud6e8\\uc52c \\ub35c \\ub4e4\\uc5b4\\uac04\\ub2e4.\\n\\uacfc\\uc81c\\ub97c \\ubcf4\\ub294 \\uc774\\uc720\\ub294 \\uacfc\\uc81c\\ub97c \\ud1b5\\ud574 \\uc0dd\\uac01\\ubcf4\\ub2e4 \\uc815\\ub9d0 \\ub9ce\\uc740 \\uac83\\ub4e4\\uc744 \\uc54c \\uc218 \\uc788\\uae30 \\ub54c\\ubb38\\uc774\\ub2e4. \\uae30\\ubcf8\\uc801\\uc73c\\ub85c \\ubd84\\uc11d/\\ucf54\\ub529 \\uc5ed\\ub7c9\\uc774 \\ub418\\ub294\\uc9c0 \\uc2a4\\ud0ac \\uc218\\uc900\\uc758 \\ub2a5\\ub825\\ubd80\\ud130 \\ub17c\\ub9ac\\uc801\\uc778 \\uc804\\uac1c\\ub098 \\ubb38\\uc11c \\uc804\\ub2ec\\ub825\\uae4c\\uc9c0 \\ubcfc \\uc218 \\uc788\\uc73c\\ubbc0\\ub85c \\uba74\\uc811 \\ub54c \\uae30\\ucd08\\uc801\\uc778 \\uae30\\uc220 \\uc5ed\\ub7c9\\uc744 \\uac80\\uc99d\\ud558\\ub294 \\ub370 \\uc2dc\\uac04\\uc744 \\ub35c \\uc4f8 \\uc218 \\uc788\\ub2e4.\\n\\ub2e4\\ub9cc \\uc5b4\\ub5a4 \\uacfc\\uc81c(\\ubb38\\uc81c)\\uac00 \\uc88b\\uc740 \\uacfc\\uc81c\\uc774\\ub0d0\\uc5d0 \\ub300\\ud574\\uc11c\\ub294 \\uc544\\uc9c1\\uae4c\\uc9c0\\ub3c4 \\uace0\\ubbfc\\uc774 \\ub9ce\\ub2e4. \\ub2e4\\uc2dc \\uc5b4\\ub5a4 \\uc0ac\\ub78c\\uc744 \\uc6d0\\ud558\\ub294\\uc9c0\\ub85c \\ub3cc\\uc544\\uac00\\uc11c, \\ud300\\ubcc4\\ub85c \\uacfc\\uc81c\\ub3c4 \\ubaa9\\uc801\\uc5d0 \\ub9de\\uac8c \\ucd9c\\uc81c\\uac00 \\ub418\\uc5b4\\uc57c \\ud55c\\ub2e4. \\ucd9c\\uc81c \\uc2dc\\uc5d0 trade-off\\uac00 \\ubc1c\\uc0dd\\ud560 \\uc218 \\uc788\\ub294 \\ubd80\\ubd84\\uc740 \\uacfc\\uc81c \\ubb38\\uc81c\\ub098 \\uc9c0\\uc2dc\\ubb38\\uc774 \\uad6c\\uccb4\\uc801\\uc774\\uace0 \\uba85\\ud655\\ud560\\uc218\\ub85d,\\n(+) \\uc9c0\\uc6d0\\uc790\\uac00 \\uacfc\\uc81c\\ub97c \\ud3ec\\uae30\\ud560 \\ud655\\ub960\\uc774 \\ub0ae\\uace0 (\\uc798 \\uc124\\uacc4\\ub418\\uc5c8\\ub2e4\\uba74) \\uc6b0\\ub9ac\\uac00 \\ubcf4\\uace0\\uc790 \\ud558\\ub294 \\uac78 \\ubcfc \\uc218 \\uc788\\ub2e4.\\n(-) \\uc9c0\\uc6d0\\uc790 \\uc2a4\\uc2a4\\ub85c \\ubb38\\uc81c \\uc815\\uc758\\ub97c \\ud558\\uace0 \\ubd84\\uc11d\\uc744 \\uc124\\uacc4\\ud558\\ub294 \\ub2a5\\ub825\\uc744 \\ubcf4\\uae30\\ub294 \\uc5b4\\ub824\\uc6b8 \\uc218 \\uc788\\uc73c\\uba70 \\ubaa8\\ub4e0 \\uacfc\\uc81c \\uacb0\\uacfc\\ubb3c\\uc774 \\ucc0d\\uc5b4\\ub0b8 \\ub4ef \\ucc9c\\ud3b8\\uc77c\\ub960\\uc801\\uc778 \\uc2ac\\ud508 \\uc0c1\\ud669\\uc744 \\ub9de\\ub2e5\\ub728\\ub9b4 \\uc218\\ub3c4 \\uc788\\ub2e4.\\n\\uba74\\uc811\\n\\ubaa8\\ub4e0 \\uba74\\uc811 \\uc804\\uc5d0\\ub294 \\uba74\\uc811\\uad00\\ub4e4\\uc774 \\ubaa8\\uc5ec\\uc11c \\uc774 \\uc9c0\\uc6d0\\uc790 \\ubd84\\uc5d0\\uac8c \\uc5b4\\ub5a4 \\ub0b4\\uc6a9\\uc774 \\uad81\\uae08\\ud55c\\uc9c0(\\uc5b4\\ub5a4 \\uc9c8\\ubb38\\ub4e4\\uc744 \\ud560\\uc9c0) \\uc815\\ub9ac\\ud558\\uace0 \\ub4e4\\uc5b4\\uac04\\ub2e4. \\ud558\\uc9c0\\ub9cc \\uadf8 \\uc804\\uc5d0\\ub3c4 \\uc774\\ubbf8 \\uc8fc\\ub85c \\ubb3c\\uc5b4\\ubcf4\\ub294 \\uc9c8\\ubb38 \\ub9ac\\uc2a4\\ud2b8\\uc640 \\ud750\\ub984\\uc774 \\uc815\\ud574\\uc838 \\uc788\\uc73c\\uba74 \\uc88b\\ub2e4. \\uba74\\uc811\\uc774\\uc57c\\ub9d0\\ub85c \\uc0c1\\ud669\\uacfc \\uc9c0\\uc6d0\\uc790\\uc5d0 \\ub530\\ub77c \\ubcc0\\uc218\\uac00 \\ub9ce\\uc740 \\uc601\\uc5ed\\uc774\\uace0, \\uadf8\\ub0e5 \\uaf2c\\ub9ac\\ubb3c\\uae30 \\uc9c8\\ubb38\\uc73c\\ub85c 30\\ubd84\\uc774 \\uc9c0\\ub098\\uac08 \\ub54c\\ub3c4 \\uc788\\uc9c0\\ub9cc.\\n\\ub2e4\\uc74c\\uc740 \\uadf8\\ub0e5 \\uba74\\uc811 \\ubcf4\\uba74\\uc11c \\ub0b4\\uac00 \\ub290\\ub080 \\uc810\\uacfc \\uace0\\ubbfc\\ub4e4\\uc774\\ub2e4.\\n\\uae30\\ubcf8\\uc801\\uc778 \\uac83\\uc740 \\uc5b4\\ub290 \\uc815\\ub3c4\\uae4c\\uc9c0 \\ubb3c\\uc5b4\\ubd10\\uc57c \\ud558\\ub098?\\n\\ub2e4\\ub978 \\uac70 \\ubb3c\\uc5b4\\ubcfc \\uac70 \\ub9ce\\uc740\\ub370 \\ub108\\ubb34 \\ub9ce\\uc774 \\uc2dc\\uac04 \\uc4f0\\uba74 \\ub0ad\\ube44 \\uc544\\ub2cc\\uac00 \\uc2f6\\uc9c0\\ub9cc \\ub180\\ub78d\\uac8c\\ub3c4 \\uac00\\ub054 \\uc774\\ub825\\uc11c\\uc5d0 XX(\\uc9c4\\uc9dc \\uae30\\ubcf8 ML \\uc9c0\\uc2dd\\uc774 \\uc788\\uc73c\\uba74 \\uc544\\ub294 \\ubaa8\\ub378)\\ub97c \\uc0ac\\uc6a9\\ud574\\uc11c \\ud504\\ub85c\\uc81d\\ud2b8\\ub97c \\ud588\\ub2e4\\uace0 \\uc37c\\ub294\\ub370 XX\\uac00 \\ubb54\\uc9c0 \\uc124\\uba85\\ud574 \\ub2ec\\ub77c\\uace0 \\ud558\\uba74 \\uc124\\uba85 \\ubabb\\ud558\\uc2dc\\ub294 \\ubd84\\uc774 \\uc788\\ub2e4.\\n\\uadf8\\ub9ac\\uace0 \\ub2f9\\uc5f0\\ud788 \\uc54c \\uac83 \\uac19\\uc740 \\uac1c\\ub150\\uc774\\ub098 \\ubaa8\\ub378\\uc774\\ub77c\\ub3c4, \\uc9c8\\ubb38\\uc744 \\ud568\\uc73c\\ub85c\\uc368 \\uc9c0\\uc6d0\\uc790 \\ubd84\\uc758 \\uc124\\uba85\\ud558\\uc2dc\\ub294 \\ub2a5\\ub825\\uc744 \\ubcfc \\uc218 \\uc788\\ub2e4. \\ub098\\ub294 \\uc774 \\uac1c\\ub150\\uc744 \\uc81c\\uac00 \\ud1b5\\uacc4\\uc54c\\ubabb\\uc774\\ub77c\\uace0 \\uce58\\uace0 \\uc800\\ud55c\\ud14c \\uc124\\uba85\\ud574\\uc8fc\\uc138\\uc694 \\ub77c\\ub294 \\uc9c8\\ubb38\\ub3c4 \\uc885\\uc885 \\ud55c\\ub2e4. \\uc65c\\ub0d0\\uba74 \\uc2e4\\uc81c \\uc6b0\\ub9ac\\uc758 \\uace0\\uac1d\\uc740 \\ub300\\ubd80\\ubd84 \\ud1b5\\uacc4\\uc54c\\ubabb\\uc774\\ubbc0\\ub85c..\\n\\uae34\\uc7a5 \\ud480\\uc5b4\\ub4dc\\ub9ac\\uae30\\n\\ub0b4\\uac00 \\uc798 \\ubabb\\ud558\\ub294 \\uc601\\uc5ed\\uc73c\\ub85c \\uac70\\uc758 \\ud55c\\ubc88\\ub3c4 \\uc801\\uadf9\\uc801\\uc73c\\ub85c \\ud574\\ubcf8 \\uc801\\uc740 \\uc5c6\\ub2e4. \\uc57d\\uac04\\uc774\\ub77c\\ub3c4 \\uc6c3\\uc74c \\ud3ec\\uc778\\ud2b8\\uac00 \\uc0dd\\uae38 \\ub54c \\ucd5c\\ub300\\ud55c \\uc6c3\\uc5b4\\ub4dc\\ub9ac\\uae30\\uac00 \\ub05d\\u2026\\n\\uac00\\ub054 \\uc2e0\\uc785 \\uba74\\uc811\\uc778 \\uacbd\\uc6b0 \\ub108\\ubb34 \\uae34\\uc7a5\\ud558\\uc2dc\\ub294 \\uacbd\\uc6b0\\uac00 \\uc788\\ub294\\ub370, \\uac19\\uc774 \\ub4e4\\uc5b4\\uac04 \\uba74\\uc811\\uad00 \\ubd84\\ub4e4\\uc774 \\uc774\\uac78 \\uc798\\ud558\\uc2dc\\ub294 \\uac78 \\ubcf4\\uba74 \\ubc30\\uc6cc\\uc57c\\uc9c0 \\ud55c\\ub2e4. \\uc9c0\\uc6d0\\uc790 \\ubd84\\uc774 \\uae34\\uc7a5\\ud574\\uc11c \\ud574\\uc57c \\ud560 \\ub9d0\\ub3c4 \\ubabb\\ud558\\uc2dc\\uace0 \\ucda9\\ubd84\\ud788 \\ub2a5\\ub825\\uc744 \\ud45c\\ud604\\ud558\\uc9c0 \\ubabb\\ud558\\uba74 \\uc6b0\\ub9ac\\ub3c4 \\uc190\\ud574\\uc774\\ub2e4.\\n\\uba74\\uc811\\uc758 \\ubaa9\\uc801\\uc774 \\ubb58\\uae4c\\n\\uc11c\\ub958\\uc640 \\uacfc\\uc81c\\ub97c \\ud1b5\\ud574 \\uc774\\ubbf8 \\ub0b4 \\uba38\\ub9bf\\uc18d\\uc5d0 \\uc5b4\\ub290 \\uc815\\ub3c4 \\ud30c\\uc545\\ub41c \\uc9c0\\uc6d0\\uc790\\uc758 \\ud2b9\\uc131\\uc774 \\uc788\\uace0, \\uadf8 \\ud2b9\\uc131\\uc774 \\uc88b\\uc73c\\ub2c8\\uae4c \\uba74\\uc811\\uc744 \\ubcf4\\uae30\\ub85c \\ud55c \\uac83\\uc774\\ub2e4. \\uc774\\uc81c \\uba74\\uc811\\uc740 \\uadf8\\uac78 \\ub4b7\\ubc1b\\uce68\\ud558\\ub294 \\uadfc\\uac70\\ub97c \\uc5bb\\uc744 \\uc218 \\uc788\\ub294 \\uc790\\ub9ac\\uc774\\ub2e4. \\uba74\\uc811\\uad00\\uc774 \\uadf8 \\uadfc\\uac70\\ub97c \\uc798 \\ud30c\\ub0bc \\uc218 \\uc788\\ub294 \\uc9c8\\ubb38\\uc744 \\ub358\\uc9c0\\ub3c4\\ub85d \\ub178\\ub825\\ud558\\uace0 \\uc9c0\\uc6d0\\uc790\\uac00 \\uc55e\\uc120 \\uc804\\ud615\\uacfc \\uc77c\\uad00\\uc131 \\uc788\\ub294 \\ubaa8\\uc2b5\\uc744 \\ubcf4\\uc5ec\\uc900\\ub2e4\\uba74 \\uba74\\uc811\\uc774 \\uc5b4\\ub290 \\uc815\\ub3c4 \\uc798 \\ud758\\ub7ec\\uac04\\ub2e4\\uace0 \\uc0dd\\uac01\\ud55c\\ub2e4. \\uc77c\\uad00\\uc131 \\uc788\\ub294 \\ubaa8\\uc2b5\\uc774\\ub77c\\uba74 \\uc608\\ub97c \\ub4e4\\uc5b4 \\uc774\\ub7f0 \\uac74\\ub370, \\uc9c0\\uc6d0\\uc790\\uac00 \\uc11c\\ub958\\uc5d0 \\ub098\\ub294 \\uafb8\\uc900\\ud558\\uac8c \\uc0c8\\ub85c\\uc6b4 \\uac78 \\ud559\\uc2b5\\ud558\\ub294 \\uc0ac\\ub78c\\uc774\\ub77c\\uace0 \\uc801\\uc5c8\\ub2e4\\uba74 \\ucd5c\\uadfc\\uc5d0 \\uacf5\\ubd80\\ud55c \\uac70 \\ubb50 \\uc788\\uc5b4\\uc694? \\uc18c\\uac1c\\ud574\\uc8fc\\uc138\\uc694 \\ub77c\\ub294 \\uc9c8\\ubb38\\uc5d0 \\ubb50\\ub77c\\ub3c4 \\ub2f5\\uc774 \\ub098\\uc640\\uc57c \\ud55c\\ub2e4.\\n\\ucee4\\ubba4\\ub2c8\\ucf00\\uc774\\uc158\\n\\uc624\\uc9c1 \\uba74\\uc811\\uc5d0\\uc11c\\ub9cc \\uac80\\uc99d\\ud560 \\uc218 \\uc788\\ub294 \\ub2a5\\ub825\\uc774\\ub2e4. \\uc6b0\\uc120 \\uc9c8\\ubb38\\uc774 \\uc624\\uace0 \\uac08 \\ub54c \\ub9c9\\ud788\\ub294 \\uad6c\\uc11d \\uc5c6\\uc774 \\ub9e4\\ub044\\ub7fd\\uac8c \\ud758\\ub7ec\\uac00\\ub294\\uc9c0\\uac00 \\uc911\\uc694\\ud55c\\ub370(\\uc9c8\\ubb38\\uc758 \\uc694\\uc9c0\\ub97c \\uc798 \\ud30c\\uc545\\ud558\\uace0 \\uc801\\uc808\\ud55c \\ub300\\ub2f5\\uc744 \\ud558\\ub294\\uc9c0), \\ub2f9\\uc5f0\\ud788 \\ubaa8\\ub4e0 \\ub9d0\\uc744 \\uc544\\ubb34 \\ubc84\\ubc85\\uac70\\ub9bc \\uc5c6\\uc774 \\uc11c\\ub85c \\uc54c\\uc544\\ub4e3\\uae30\\ub780 \\uc5b4\\ub824\\uc6b8 \\uac83\\uc774\\ub2e4. \\uc9c8\\ubb38\\uc744 \\uc798 \\ubabb \\uc54c\\uc544\\ub4e4\\uc5c8\\ub2e4\\uba74 \\ub2e4\\uc2dc \\ud55c \\ubc88 \\ub9d0\\ud574\\ub2ec\\ub77c\\uace0 \\ud558\\uac70\\ub098 \\ub0b4\\uac00 \\uc774\\ub807\\uac8c \\uc774\\ud574\\ud55c \\uac8c \\ub9de\\ub294\\uc9c0 \\ub418\\ubb3b\\ub294 \\uac83 \\uc544\\uc8fc \\uc88b\\ub2e4. \\uc5c5\\ubb34\\ub97c \\ud560 \\ub54c\\ub3c4 \\uadf8\\ub807\\uac8c \\ud574\\uc57c \\ud558\\uae30 \\ub54c\\ubb38\\uc774\\ub2e4(\\ubabb \\uc54c\\uc544\\ub4e4\\uc5c8\\ub294\\ub370 \\ub300\\ucda9 \\uc54c\\uc544\\ub4e4\\uc740 \\ucc99 \\ub2f5\\ubcc0\\ud558\\ub294 \\uac83 = \\uadf8\\ub807\\uac8c \\uc77c\\uc744 \\uc9c4\\ud589\\ud574\\ubc84\\ub9ac\\uba74 \\ubcf4\\ud1b5 \\ub9dd\\ud568).\\n\\uadf8\\ub9ac\\uace0 \\uc774\\ub825\\uc11c \\uc0c1\\uc5d0 \\uc788\\ub294 \\ub0b4\\uc6a9\\uc5d0 \\ub300\\ud574 \\uc5b4\\ub5bb\\uac8c \\uc9c4\\ud589\\ud588\\uace0 \\uc5b4\\ub5a4 \\uc5ed\\ud560\\uc744 \\ud588\\ub294\\uc9c0 \\uc124\\uba85\\ud574\\ub2ec\\ub77c\\uace0 \\ud588\\uc744 \\ub54c \\uadf8 \\ub0b4\\uc6a9 \\uc790\\uccb4\\ub9cc\\ud07c\\uc774\\ub098 \\uc5b4\\ub5a4 \\ubc29\\uc2dd\\uc73c\\ub85c \\uc124\\uba85\\ud558\\ub294\\uc9c0\\ub97c \\ubcf4\\ub294 \\uac83\\ub3c4 \\uc911\\uc694\\ud558\\ub2e4. \\ub108\\ubb34\\ub108\\ubb34 \\ub2f9\\uc5f0\\ud55c \\uc18c\\ub9ac\\uc9c0\\ub9cc \\uc6b0\\ub9ac \\ud300 \\uc544\\ub2c8\\ub77c \\uc138\\uc0c1\\uc758 \\uc5b4\\ub5a4 \\ud68c\\uc0ac\\uc5d0\\uc11c\\ub3c4 \\ubd84\\uc11d\\uac00\\ub77c\\uace0 \\ubd84\\uc11d\\ub9cc \\ud558\\ub294 \\uacbd\\uc6b0\\ub294 \\uc5c6\\uae30 \\ub54c\\ubb38\\uc774\\ub2e4. \\ubd84\\uc11d\\ud55c \\ub0b4\\uc6a9\\uc744 \\uc124\\uba85\\ud574\\uc57c \\ud558\\uace0, \\uc124\\uba85\\uc744 \\uc798 \\ud574\\uc11c \\ub0a8\\ub4e4\\uc744 \\uc124\\ub4dd\\ud574\\uc57c \\ud558\\ub294\\ub370, \\ubcf4\\ud1b5 \\uadf8 \\ub0a8\\ub4e4\\uc5d0\\ub294 \\ub0b4\\uac00 \\uac1c\\ub5a1\\uac19\\uc774 \\ub9d0\\ud574\\ub3c4 \\ucc30\\ub5a1\\uac19\\uc774 \\uc54c\\uc544\\ub4e3\\ub294 \\uac19\\uc740 \\ubd84\\uc11d\\uac00 \\ub3d9\\ub8cc\\ub9cc \\uc788\\ub294 \\uac83\\uc774 \\uc544\\ub2c8\\uace0 \\ub098\\uc5d0\\uac90 \\uac04\\ub2e8\\ud55c \\uc6a9\\uc5b4\\uc870\\ucc28 \\uc775\\uc219\\ud558\\uc9c0 \\uc54a\\uc740 \\ub2e4\\ub978 \\uc9c1\\uad70\\uc758 \\uc0ac\\ub78c\\uc774\\ub098 \\ubd10\\uc57c \\ud560 \\ud504\\ub85c\\uc81d\\ud2b8\\uac00 \\uc624\\ubc31 \\uac1c\\ub77c \\ub0b4 \\uc791\\uc740 \\ud504\\ub85c\\uc81d\\ud2b8\\uc5d0 \\uc3df\\uc744 \\uc2dc\\uac04\\uc740 \\ubcc4\\ub85c \\uc5c6\\ub294 \\uc0c1\\uc704 \\ub9ac\\ub354 \\ub4f1\\uc774 \\ud3ec\\ud568\\ub418\\uc5b4 \\uc788\\uc73c\\ubbc0\\ub85c \\uc0ac\\uc2e4 \\ud575\\uc2ec\\uc801\\uc778 \\ub2a5\\ub825\\uc774\\ub77c \\ud560 \\uc218 \\uc788\\uaca0\\ub2e4.\\n\\u2018\\ubc14\\ub78c\\uc9c1\\ud55c\\u2019 \\ub2f5\\ubcc0\\n\\ud754\\ud788 \\ub9d0\\ud558\\ub294 social desirabilty\\uac00 \\uc5c4\\uccad \\ub192\\uc73c\\uc2e0 \\ubd84\\ub4e4\\uc774 \\uc788\\ub2e4. \\ubb3c\\ub860 \\uc9c0\\uc6d0\\uc790\\ub77c\\uba74 \\ub2f9\\uc5f0\\ud788 \\uba74\\uc811\\uad00\\uc774 \\uc6d0\\ud558\\ub294 \\ub300\\ub2f5\\uc744 \\ud558\\uace0 \\uc2f6\\uc5b4 \\ud55c\\ub2e4. \\ub098\\ub77c\\ub3c4 \\uadf8\\ub7f4 \\uac83 \\uac19\\ub2e4. \\ud558\\uc9c0\\ub9cc \\uc815\\ub9d0 \\ubd84\\uc11d\\uac00\\ub85c\\uc11c\\uc758 \\uc131\\ud5a5\\uc774\\ub098 \\uc120\\ud638, \\ucee4\\ub9ac\\uc5b4\\uc758 \\uc9c0\\ud5a5\\uc744 \\ubb3b\\ub294, \\ub2f5\\uc774 \\uc815\\ud574\\uc838 \\uc788\\uc9c0 \\uc54a\\uc740 \\uc9c8\\ubb38\\uc5d0\\uc11c \\ubaa8\\uc870\\ub9ac \\uadf8\\ub7f0 \\ubc29\\ud5a5\\uc73c\\ub85c \\ub300\\ub2f5\\ud558\\ub294 \\uac74 \\uc88b\\uc9c0 \\uc54a\\ub2e4. \\uadf8\\uac78\\ub85c \\uadf8 \\ubd84\\uc774 \\ubcc4\\ub85c\\ub77c\\uace0 \\uc0dd\\uac01\\ud55c\\ub2e4\\ub294 \\uac8c \\uc544\\ub2c8\\ub77c, \\uc9c8\\ubb38\\uc744 \\uc544\\ubb34\\ub9ac \\ud574\\ub3c4 \\uc54c\\uc544\\ub0bc \\uc218 \\uc788\\ub294 \\uac8c \\ubcc4\\ub85c \\uc5c6\\uc5b4\\uc11c \\uc88b\\uc9c0 \\uc54a\\ub2e4\\ub294 \\uac83\\uc774\\ub2e4.\\n\\ubb3c\\ub860 \\ucabc\\ub819 \\uba74\\uc811\\uad00\\uc778 \\ub098\\uc758 \\uc2a4\\ud0ac \\ud0d3\\uc77c \\uc218\\ub3c4 \\uc788\\ub2e4. \\uc774 \\ubd84\\uc5d0 \\ub300\\ud574\\uc11c\\ub294 \\uc774\\uac78 \\uaf2d \\uac80\\uc99d\\ud558\\uace0 \\uc2f6\\ub2e4\\ub294 \\ub0b4\\uc6a9\\uc774 \\uc788\\uc744 \\ub54c \\uadf8\\uac78 \\uc548 \\ub4e4\\ud0a4\\uace0(?) \\uc54c\\uc544\\ub0b4\\uae30\\uac00 \\ucc38 \\uc5b4\\ub835\\ub2e4. \\uc608\\ub97c \\ub4e4\\uc5b4 \\uc6b0\\ub9ac\\ub294 A\\ub97c \\ud558\\ub294 \\uc0ac\\ub78c\\uc744 \\uc6d0\\ud558\\ub294\\ub370 \\uc0c1\\ub300\\ubc29\\uc774 B \\ucabd\\uc5d0 \\ud765\\ubbf8\\uac00 \\uc788\\uace0 \\uac15\\uc810\\uc774 \\uc788\\ub294 \\uc0ac\\ub78c\\uc778 \\uac83 \\uac19\\uc544\\uc11c \\uc870\\uae08 \\uac78\\ub9b0\\ub2e4\\uace0 \\uce58\\uba74, \\ucd5c\\uc545\\uc740 \\uc774\\ub7f0 \\uc9c8\\ubb38\\uc778 \\uac83 \\uac19\\ub2e4. B \\ucabd\\uc744 \\uc8fc\\ub85c \\ud574\\uc624\\uc168\\uace0 \\uc7ac\\ubc0c\\ub2e4\\uace0 \\ud558\\uc168\\ub294\\ub370 \\ubb50 \\ub2e4\\ub978 \\uac83\\ub4e4\\ub3c4 \\uc788\\uc796\\uc544\\uc694, A \\ub3c4 \\uc788\\uace0\\u2026 \\uc5b4\\ub5a4 \\uac8c \\ub354 \\uc911\\uc694\\ud558\\ub2e4\\uace0 \\uc0dd\\uac01\\ud558\\uc138\\uc694? \\uadf8\\ub7ec\\uba74 \\uc870\\uae08\\uc774\\ub77c\\ub3c4 \\ub208\\uce58\\uac00 \\uc788\\ub294 \\uc0ac\\ub78c\\uc740 \\ubc14\\ub85c A \\uc88b\\uc8e0 \\ub77c\\ub294 \\uc2dd\\uc73c\\ub85c \\ubc29\\ud5a5\\uc744 \\ud2c0\\uc5b4\\ubc84\\ub9ac\\uace0 \\uc5b4\\ub514\\uae4c\\uc9c0\\uac00 \\uadf8 \\ubd84\\uc758 \\uc9c4\\uc9dc \\uc0dd\\uac01\\uc778\\uc9c0\\ub97c \\uc54c \\uc218\\uac00 \\uc5c6\\ub2e4. \\uc9c0\\uc6d0\\uc790\\uac00 (B\\ub294 \\uc54c\\uaca0\\uace0) A\\ub3c4 \\uc798 \\ud560 \\uc904 \\uc544\\ub294 \\uc0ac\\ub78c\\uc77c\\uc9c0 \\uad81\\uae08\\ud574! \\ub77c\\ub294 \\ub0b4 \\ubaa9\\uc801\\uc744 \\uc804\\ud600 \\ub2ec\\uc131\\ud560 \\uc218 \\uc5c6\\ub294 \\uac83\\uc774\\ub2e4.\\n\\ub9c8\\uc9c0\\ub9c9 \\uc9c8\\ubb38 \\ud0c0\\uc784\\n\\ub2f9\\uc5f0\\ud788 \\ubaa8\\ub4e0 \\uba74\\uc811 \\ub05d\\uc5d0\\ub294 \\uc9c0\\uc6d0\\uc790 \\ubd84\\uc5d0\\uac8c \\uba74\\uc811\\uad00\\ub4e4\\uc5d0\\uac8c \\uad81\\uae08\\ud55c \\uac78 \\ubb3c\\uc5b4\\ubd10 \\ub2ec\\ub77c\\uace0 \\ud55c\\ub2e4. \\uc774 \\uc2dc\\uac04\\uc740 \\uc9c0\\uc6d0\\uc790 \\uc785\\uc7a5\\uc5d0\\uc11c \\ud68c\\uc0ac\\uc640 \\ud300\\uc5d0 \\ub300\\ud574 \\uad81\\uae08\\ud55c \\uac78 \\uc54c\\uc544\\uac08 \\uc218 \\uc788\\uc744 \\ubfd0\\ub354\\ub7ec \\ubcf8\\uc778\\uc758 \\uad00\\uc2ec\\uc774\\ub098 \\ub2a5\\ub825\\uae4c\\uc9c0\\ub3c4 \\uc5b4\\ud544\\ud560 \\uc218 \\uc788\\ub294 \\uc2dc\\uac04\\uc774\\ub77c\\uace0 \\uc0dd\\uac01\\ud55c\\ub2e4.\\n\\uc77c\\ub2e8 \\uc9c8\\ubb38\\uc744 \\ud558\\ub098 \\uc815\\ub3c4 \\uc758\\ub840\\uc801\\uc73c\\ub85c \\ud558\\uc2dc\\uace0 \\ub354 \\uad81\\uae08\\ud55c \\uac8c \\uc5c6\\ub2e4\\uace0 \\ud558\\uc2dc\\uba74 \\ud655\\uc2e4\\ud788 \\uc880 \\uc544\\uc27d\\ub2e4. \\uc544\\ub2c8 \\ub370\\uc774\\ud2b8\\ub97c \\ud574\\ub3c4 \\ub098\\ub9cc \\uc0c1\\ub300\\ubc29\\ud55c\\ud14c \\uacc4\\uc18d \\ubb3c\\uc5b4\\ubcf4\\uba74 \\uc59c \\ub098\\ud55c\\ud14c \\uad00\\uc2ec\\uc774 \\uc5c6\\uad6c\\ub098 \\uc774\\uac74 \\uae00\\ub800\\uad6c\\ub098 \\ud558\\uc9c0 \\uc54a\\uaca0\\ub098. \\uc774\\ub7f4 \\ub550 \\uc0ac\\uc2e4 \\uc9c4\\uc9dc \\uad81\\uae08\\ud55c \\uac70 \\ub354 \\uc5c6\\uc73c\\uc138\\uc694? \\ud574\\ub3c4 \\ub420 \\ubc95\\ud558\\uc9c0\\ub9cc, \\uc774 \\ub2e8\\uacc4\\uc5d0 \\uc640\\uc11c \\uba74\\uc811 \\uacb0\\uacfc\\uae4c\\uc9c0 \\ub4a4\\uc9d1\\ud788\\uae30\\ub294 \\uc5b4\\ub835\\uae30 \\ub54c\\ubb38\\uc5d0 \\uc5ec\\ub7ec \\uc774\\uc720\\ub85c \\uad73\\uc774 \\uadf8\\ub807\\uac8c\\ub294 \\uc548 \\ud558\\ub294 \\ub4ef.\\n\\uc9c8\\ubb38\\uc758 \\ub0b4\\uc6a9\\uc774\\ub77c\\uace0 \\uce58\\uba74 \\uac00\\uc7a5 \\uae30\\ubcf8\\uc801\\uc778 \\uac8c \\uc785\\uc0ac\\ud574\\uc11c \\ud560 \\uc77c\\uc774 \\uc5b4\\ub5a4 \\uc77c\\uc774\\uace0 \\uc5b4\\ub5a4 \\ud658\\uacbd(\\ud300 \\uad6c\\uc131, \\ub370\\uc774\\ud130\\ub098 \\uc778\\ud504\\ub77c, \\uc5c5\\ubb34 \\uccb4\\uacc4\\ub098 \\ubc29\\uc2dd \\ub4f1)\\uc77c\\uc9c0\\uac00 \\uc788\\ub294\\ub370, \\uc774\\ub7f0 \\uc9c8\\ubb38\\uc744 \\uc2e0\\uc785\\uc77c\\uc218\\ub85d \\ub9ce\\uc774 \\uc548 \\ud558\\uc2e0\\ub2e4. \\ub2f9\\uc5f0\\ud788 \\uad81\\uae08\\ud560 \\ub0b4\\uc6a9\\uc778\\ub370 \\uc65c \\uc548 \\ud558\\uc2dc\\ub294\\uc9c0 \\uc758\\ubb38\\uc774\\ub2e4.\\n\\uadf8 \\uc678\\uc5d0\\ub3c4 \\uc6b0\\ub9ac \\ub3c4\\uba54\\uc778\\uc5d0 \\ub300\\ud55c \\ub098\\ub984\\uc758 \\uc0dd\\uac01\\uc774\\ub098 \\uace0\\ubbfc\\uc744 \\ud558\\uc2dc\\uace0 \\uadf8\\uac83\\uc5d0 \\ub300\\ud574 \\uc6b0\\ub9ac \\uc758\\uacac\\uc744 \\ubb3c\\uc5b4\\ubcf4\\ub294 \\ubd84\\ub4e4\\uc774 \\uc885\\uc885 \\uacc4\\uc2e0\\ub370 \\uadf8 \\uc790\\uccb4\\ub85c 1) \\uadf8\\ub9cc\\ud07c \\uc9c4\\uc9dc \\uc774 \\uc77c\\uc5d0 \\uad00\\uc2ec\\uc774 \\uc788\\ub2e4 2) \\uc774 \\uc815\\ub3c4\\uae4c\\uc9c0 \\uace0\\ubbfc\\ud560 \\uc218 \\uc788\\ub294 \\uc0ac\\ub78c\\uc774\\ub2e4\\ub97c \\ubcf4\\uc5ec\\uc8fc\\ub294 \\uac83\\uc774\\ub77c\\uc11c \\uc88b\\uac8c \\ubcf4\\uc778\\ub2e4.\\n\\uc774 \\uc2dc\\uac04\\uc5d0 \\uba74\\uc811 \\uc790\\uccb4\\ub098 \\uc9c0\\uc6d0\\uc790\\ub85c\\uc11c \\ubcf8\\uc778\\uc5d0 \\ub300\\ud55c \\ud53c\\ub4dc\\ubc31\\uc744 \\ub2ec\\ub77c\\uace0 \\ud558\\ub294 \\uac74 \\ubb50 \\ud560 \\ub9cc\\ud55c \\uc9c8\\ubb38\\uc774\\ub77c\\uace0 \\uc0dd\\uac01\\ud558\\uc9c0\\ub9cc, \\uac1c\\uc778\\uc801\\uc73c\\ub85c \\uc55e\\uc73c\\ub85c \\ubd84\\uc11d\\uac00\\uac00 \\ub418\\uae30 \\uc704\\ud574 \\uc5b4\\ub5a4 \\uac78 \\uacf5\\ubd80\\ud558\\uace0 \\uc900\\ube44\\ud558\\uba74 \\uc88b\\uaca0\\ub294\\uc9c0\\ub97c \\ubb3c\\uc5b4\\ubcf4\\ub294 \\uac74 \\uc0c1\\ud669\\uc5d0 \\uc801\\uc808\\ud55c \\uc9c8\\ubb38\\uc778\\uc9c0\\ub294 \\uc798 \\ubaa8\\ub974\\uaca0\\ub2e4. \\ubb3c\\ub860 \\ubb3c\\uc5b4\\ubcf4\\uc2dc\\uba74 \\ub2f5\\uc740 \\ud574 \\ub4dc\\ub9b0\\ub2e4.\\n\",\n",
      "        \"title\": \"'\"\n",
      "    },\n",
      "    \"option\": {\n",
      "        \"language\": \"ko\",\n",
      "        \"model\": \"news\",\n",
      "        \"summaryCount\": \"3\",\n",
      "        \"tone\": \"2\"\n",
      "    }\n",
      "}\n",
      "Error : {\"status\":400,\"error\":{\"errorCode\":\"E003\",\"message\":\"Text quota Exceeded\"}}\n"
     ]
    }
   ],
   "source": [
    "import sys\n",
    "import requests\n",
    "import json\n",
    "client_id = \" X-NCP-APIGW-API-KEY-ID\"\n",
    "client_secret = \" X-NCP-APIGW-API-KEY\"\n",
    "headers = {\n",
    "    \"X-NCP-APIGW-API-KEY-ID\": \"yukhq4rjut\",\n",
    "    \"X-NCP-APIGW-API-KEY\": \"WobdjgWwkOFR8Qs8hyeGAl9gyh4OG0Je33Ofq34x\",\n",
    "    \"Content-Type\": \"application/json\"\n",
    "}\n",
    "language = \"ko\" # Language of document (ko, ja )\n",
    "model = \"news\" # Model used for summaries (general, news)\n",
    "tone = \"2\" # Converts the tone of the summarized result. (0, 1, 2, 3)\n",
    "summaryCount = \"3\" # This is the number of sentences for the summarized document.\n",
    "url= \"https://naveropenapi.apigw.ntruss.com/text-summary/v1/summarize\" \n",
    "title= \"'\"\n",
    "content = g\n",
    "data = {\n",
    "    \"document\": {\n",
    "    \"title\": title,\n",
    "    \"content\" : content\n",
    "    },\n",
    "    \"option\": {\n",
    "    \"language\": language,\n",
    "    \"model\": model,\n",
    "    \"tone\": tone,\n",
    "    \"summaryCount\" : summaryCount\n",
    "    }\n",
    "}\n",
    "print(json.dumps(data, indent=4, sort_keys=True))\n",
    "response = requests.post(url, data=json.dumps(data), headers=headers)\n",
    "rescode = response.status_code\n",
    "if(rescode == 200):\n",
    "    print (response.text)\n",
    "else:\n",
    "    print(\"Error : \" + response.text)"
   ]
  },
  {
   "cell_type": "code",
   "execution_count": null,
   "id": "16d45487-873b-4731-a3af-913de4ae0cf8",
   "metadata": {},
   "outputs": [],
   "source": []
  }
 ],
 "metadata": {
  "kernelspec": {
   "display_name": "Python 3 (ipykernel)",
   "language": "python",
   "name": "python3"
  },
  "language_info": {
   "codemirror_mode": {
    "name": "ipython",
    "version": 3
   },
   "file_extension": ".py",
   "mimetype": "text/x-python",
   "name": "python",
   "nbconvert_exporter": "python",
   "pygments_lexer": "ipython3",
   "version": "3.11.5"
  }
 },
 "nbformat": 4,
 "nbformat_minor": 5
}
